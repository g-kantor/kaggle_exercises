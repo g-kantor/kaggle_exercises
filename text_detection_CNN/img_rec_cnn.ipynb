{
 "cells": [
  {
   "cell_type": "code",
   "execution_count": 23,
   "metadata": {},
   "outputs": [],
   "source": [
    "import pandas as pd\n",
    "import numpy as np\n",
    "import matplotlib.pyplot as plt\n",
    "import seaborn as sns\n",
    "from PIL import Image\n",
    "%matplotlib inline\n",
    "import tensorflow as tf\n",
    "from tensorflow.keras.models import Sequential\n",
    "from tensorflow.keras.layers import Dense, Activation, Dropout, Conv2D, MaxPooling2D, Flatten\n",
    "from tensorflow.keras.callbacks import EarlyStopping\n",
    "from sklearn.preprocessing import MinMaxScaler\n",
    "from sklearn.model_selection import train_test_split\n",
    "from sklearn.metrics import classification_report,confusion_matrix\n",
    "from tensorflow.keras.models import load_model\n",
    "from tensorflow.keras.utils import to_categorical"
   ]
  },
  {
   "cell_type": "code",
   "execution_count": 33,
   "metadata": {},
   "outputs": [],
   "source": [
    "lbls = np.array([],dtype=int)\n",
    "full_list = pd.DataFrame(np.zeros((1,400)))"
   ]
  },
  {
   "cell_type": "code",
   "execution_count": 34,
   "metadata": {},
   "outputs": [],
   "source": [
    "ntrain = 8"
   ]
  },
  {
   "cell_type": "code",
   "execution_count": 35,
   "metadata": {},
   "outputs": [],
   "source": [
    "for o in range(ntrain):\n",
    "    lbls = np.append(lbls,np.loadtxt(\"imgs\" + str(o) + \"/labels\" +str(o) + \".txt\", usecols=range(20), dtype=int).reshape(400))\n",
    "    for i in range(20):\n",
    "        for j in range(20):\n",
    "            im = Image.open(\"imgs\" + str(o) + \"/img\" + str(i) + \"_\" + str(j) + \".png\").convert(\"L\")\n",
    "            imarr = pd.Series(np.asarray(im).flatten().reshape(400))\n",
    "            full_list = full_list.append(imarr,ignore_index=True)\n",
    "    if o == 0:\n",
    "        full_list = full_list.drop(0,axis=0)\n",
    "        full_list = full_list.reset_index()\n",
    "        full_list = full_list.drop('index',axis=1)\n",
    "\n",
    "labels_all = pd.Series(lbls)"
   ]
  },
  {
   "cell_type": "code",
   "execution_count": 118,
   "metadata": {},
   "outputs": [],
   "source": [
    "X = full_list.values.reshape((3200,20,20,1))\n",
    "y = labels_all.values"
   ]
  },
  {
   "cell_type": "code",
   "execution_count": 119,
   "metadata": {},
   "outputs": [],
   "source": [
    "X_train, X_test, y_train, y_test = train_test_split(X, y, test_size=0.05, random_state=69)"
   ]
  },
  {
   "cell_type": "code",
   "execution_count": 120,
   "metadata": {},
   "outputs": [],
   "source": [
    "scaler = MinMaxScaler()"
   ]
  },
  {
   "cell_type": "code",
   "execution_count": 121,
   "metadata": {},
   "outputs": [
    {
     "data": {
      "text/plain": [
       "MinMaxScaler()"
      ]
     },
     "execution_count": 121,
     "metadata": {},
     "output_type": "execute_result"
    }
   ],
   "source": [
    "scaler.fit(X_train.reshape(int(400*ntrain*0.95),400))"
   ]
  },
  {
   "cell_type": "code",
   "execution_count": 122,
   "metadata": {},
   "outputs": [],
   "source": [
    "X_train = scaler.transform(X_train.reshape(int(400*ntrain*0.95),400))\n",
    "X_test = scaler.transform(X_test.reshape(int(400*ntrain*0.05),400))"
   ]
  },
  {
   "cell_type": "code",
   "execution_count": 123,
   "metadata": {},
   "outputs": [],
   "source": [
    "X_train = X_train.reshape((int(400*ntrain*0.95),20,20,1))\n",
    "X_test = X_test.reshape((int(400*ntrain*0.05),20,20,1))"
   ]
  },
  {
   "cell_type": "code",
   "execution_count": 124,
   "metadata": {},
   "outputs": [],
   "source": [
    "early_stop = EarlyStopping(monitor='val_loss', mode='min', verbose=1, patience=25)"
   ]
  },
  {
   "cell_type": "code",
   "execution_count": 220,
   "metadata": {},
   "outputs": [],
   "source": [
    "model = Sequential()\n",
    "model.add(Conv2D(9, (3, 3), \n",
    "          activation='relu', input_shape=(20, 20, 1)))\n",
    "model.add(MaxPooling2D((2, 2)))\n",
    "\n",
    "model.add(Conv2D(18, (3, 3), activation='relu'))\n",
    "model.add(MaxPooling2D((2, 2)))\n",
    "\n",
    "model.add(Flatten())\n",
    "model.add(Dense(1, activation='sigmoid'))\n",
    "\n",
    "model.compile(loss='binary_crossentropy', optimizer='adam', metrics=['accuracy'])"
   ]
  },
  {
   "cell_type": "code",
   "execution_count": 221,
   "metadata": {},
   "outputs": [
    {
     "data": {
      "text/plain": [
       "0.001328125"
      ]
     },
     "execution_count": 221,
     "metadata": {},
     "output_type": "execute_result"
    }
   ],
   "source": [
    "1700/(3200*20*20)"
   ]
  },
  {
   "cell_type": "code",
   "execution_count": 222,
   "metadata": {},
   "outputs": [
    {
     "data": {
      "text/plain": [
       "0.0013180272108843536"
      ]
     },
     "execution_count": 222,
     "metadata": {},
     "output_type": "execute_result"
    }
   ],
   "source": [
    "62000/(60000*28*28)"
   ]
  },
  {
   "cell_type": "code",
   "execution_count": 223,
   "metadata": {},
   "outputs": [
    {
     "name": "stdout",
     "output_type": "stream",
     "text": [
      "Model: \"sequential_33\"\n",
      "_________________________________________________________________\n",
      "Layer (type)                 Output Shape              Param #   \n",
      "=================================================================\n",
      "conv2d_64 (Conv2D)           (None, 18, 18, 9)         90        \n",
      "_________________________________________________________________\n",
      "max_pooling2d_64 (MaxPooling (None, 9, 9, 9)           0         \n",
      "_________________________________________________________________\n",
      "conv2d_65 (Conv2D)           (None, 7, 7, 18)          1476      \n",
      "_________________________________________________________________\n",
      "max_pooling2d_65 (MaxPooling (None, 3, 3, 18)          0         \n",
      "_________________________________________________________________\n",
      "flatten_27 (Flatten)         (None, 162)               0         \n",
      "_________________________________________________________________\n",
      "dense_28 (Dense)             (None, 1)                 163       \n",
      "=================================================================\n",
      "Total params: 1,729\n",
      "Trainable params: 1,729\n",
      "Non-trainable params: 0\n",
      "_________________________________________________________________\n"
     ]
    }
   ],
   "source": [
    "model.summary()"
   ]
  },
  {
   "cell_type": "code",
   "execution_count": 224,
   "metadata": {},
   "outputs": [
    {
     "name": "stdout",
     "output_type": "stream",
     "text": [
      "Train on 3040 samples, validate on 160 samples\n",
      "Epoch 1/200\n",
      "3040/3040 [==============================] - 2s 740us/sample - loss: 0.6429 - accuracy: 0.6227 - val_loss: 0.5603 - val_accuracy: 0.7312\n",
      "Epoch 2/200\n",
      "3040/3040 [==============================] - 1s 375us/sample - loss: 0.5639 - accuracy: 0.7056 - val_loss: 0.5001 - val_accuracy: 0.7812\n",
      "Epoch 3/200\n",
      "3040/3040 [==============================] - 1s 380us/sample - loss: 0.5312 - accuracy: 0.7582 - val_loss: 0.4891 - val_accuracy: 0.8062\n",
      "Epoch 4/200\n",
      "3040/3040 [==============================] - 1s 377us/sample - loss: 0.5319 - accuracy: 0.7474 - val_loss: 0.4949 - val_accuracy: 0.7937\n",
      "Epoch 5/200\n",
      "3040/3040 [==============================] - 1s 375us/sample - loss: 0.5227 - accuracy: 0.7622 - val_loss: 0.4844 - val_accuracy: 0.8062\n",
      "Epoch 6/200\n",
      "3040/3040 [==============================] - 1s 375us/sample - loss: 0.5184 - accuracy: 0.7635 - val_loss: 0.5103 - val_accuracy: 0.7500\n",
      "Epoch 7/200\n",
      "3040/3040 [==============================] - 1s 368us/sample - loss: 0.5125 - accuracy: 0.7655 - val_loss: 0.4863 - val_accuracy: 0.7937\n",
      "Epoch 8/200\n",
      "3040/3040 [==============================] - 1s 367us/sample - loss: 0.5114 - accuracy: 0.7661 - val_loss: 0.4820 - val_accuracy: 0.8000\n",
      "Epoch 9/200\n",
      "3040/3040 [==============================] - 1s 374us/sample - loss: 0.5032 - accuracy: 0.7737 - val_loss: 0.4997 - val_accuracy: 0.7812\n",
      "Epoch 10/200\n",
      "3040/3040 [==============================] - 1s 370us/sample - loss: 0.5014 - accuracy: 0.7727 - val_loss: 0.4850 - val_accuracy: 0.8062\n",
      "Epoch 11/200\n",
      "3040/3040 [==============================] - 1s 376us/sample - loss: 0.4916 - accuracy: 0.7816 - val_loss: 0.4901 - val_accuracy: 0.7875\n",
      "Epoch 12/200\n",
      "3040/3040 [==============================] - 1s 378us/sample - loss: 0.4908 - accuracy: 0.7789 - val_loss: 0.4755 - val_accuracy: 0.8125\n",
      "Epoch 13/200\n",
      "3040/3040 [==============================] - 1s 373us/sample - loss: 0.4851 - accuracy: 0.7878 - val_loss: 0.4725 - val_accuracy: 0.7937\n",
      "Epoch 14/200\n",
      "3040/3040 [==============================] - 1s 371us/sample - loss: 0.4760 - accuracy: 0.7855 - val_loss: 0.4693 - val_accuracy: 0.7875\n",
      "Epoch 15/200\n",
      "3040/3040 [==============================] - 1s 378us/sample - loss: 0.4728 - accuracy: 0.7928 - val_loss: 0.5109 - val_accuracy: 0.7812\n",
      "Epoch 16/200\n",
      "3040/3040 [==============================] - 1s 371us/sample - loss: 0.4690 - accuracy: 0.7928 - val_loss: 0.4636 - val_accuracy: 0.8000\n",
      "Epoch 17/200\n",
      "3040/3040 [==============================] - 1s 369us/sample - loss: 0.4606 - accuracy: 0.7964 - val_loss: 0.4614 - val_accuracy: 0.8062\n",
      "Epoch 18/200\n",
      "3040/3040 [==============================] - 1s 443us/sample - loss: 0.4544 - accuracy: 0.8036 - val_loss: 0.4595 - val_accuracy: 0.8000\n",
      "Epoch 19/200\n",
      "3040/3040 [==============================] - 1s 369us/sample - loss: 0.4533 - accuracy: 0.8030 - val_loss: 0.4515 - val_accuracy: 0.8062\n",
      "Epoch 20/200\n",
      "3040/3040 [==============================] - 1s 375us/sample - loss: 0.4469 - accuracy: 0.8059 - val_loss: 0.4488 - val_accuracy: 0.8062\n",
      "Epoch 21/200\n",
      "3040/3040 [==============================] - 1s 378us/sample - loss: 0.4408 - accuracy: 0.8115 - val_loss: 0.4726 - val_accuracy: 0.8000\n",
      "Epoch 22/200\n",
      "3040/3040 [==============================] - 1s 381us/sample - loss: 0.4373 - accuracy: 0.8095 - val_loss: 0.4444 - val_accuracy: 0.8062\n",
      "Epoch 23/200\n",
      "3040/3040 [==============================] - 1s 374us/sample - loss: 0.4284 - accuracy: 0.8135 - val_loss: 0.4641 - val_accuracy: 0.8062\n",
      "Epoch 24/200\n",
      "3040/3040 [==============================] - 1s 378us/sample - loss: 0.4294 - accuracy: 0.8122 - val_loss: 0.4476 - val_accuracy: 0.8062\n",
      "Epoch 25/200\n",
      "3040/3040 [==============================] - 1s 375us/sample - loss: 0.4170 - accuracy: 0.8227 - val_loss: 0.4342 - val_accuracy: 0.8000\n",
      "Epoch 26/200\n",
      "3040/3040 [==============================] - 1s 418us/sample - loss: 0.4146 - accuracy: 0.8191 - val_loss: 0.4477 - val_accuracy: 0.8188\n",
      "Epoch 27/200\n",
      "3040/3040 [==============================] - 1s 376us/sample - loss: 0.4066 - accuracy: 0.8227 - val_loss: 0.4365 - val_accuracy: 0.8000\n",
      "Epoch 28/200\n",
      "3040/3040 [==============================] - 1s 377us/sample - loss: 0.4022 - accuracy: 0.8293 - val_loss: 0.4613 - val_accuracy: 0.8000\n",
      "Epoch 29/200\n",
      "3040/3040 [==============================] - 1s 376us/sample - loss: 0.4004 - accuracy: 0.8286 - val_loss: 0.4286 - val_accuracy: 0.7812\n",
      "Epoch 30/200\n",
      "3040/3040 [==============================] - 1s 380us/sample - loss: 0.4004 - accuracy: 0.8286 - val_loss: 0.4360 - val_accuracy: 0.8000\n",
      "Epoch 31/200\n",
      "3040/3040 [==============================] - 1s 372us/sample - loss: 0.3940 - accuracy: 0.8345 - val_loss: 0.4183 - val_accuracy: 0.7937\n",
      "Epoch 32/200\n",
      "3040/3040 [==============================] - 1s 417us/sample - loss: 0.3873 - accuracy: 0.8339 - val_loss: 0.4164 - val_accuracy: 0.7875\n",
      "Epoch 33/200\n",
      "3040/3040 [==============================] - 1s 380us/sample - loss: 0.3840 - accuracy: 0.8362 - val_loss: 0.4254 - val_accuracy: 0.8000\n",
      "Epoch 34/200\n",
      "3040/3040 [==============================] - 1s 384us/sample - loss: 0.3812 - accuracy: 0.8339 - val_loss: 0.4201 - val_accuracy: 0.7937\n",
      "Epoch 35/200\n",
      "3040/3040 [==============================] - 1s 378us/sample - loss: 0.3771 - accuracy: 0.8283 - val_loss: 0.4190 - val_accuracy: 0.7875\n",
      "Epoch 36/200\n",
      "3040/3040 [==============================] - 1s 381us/sample - loss: 0.3831 - accuracy: 0.8355 - val_loss: 0.4217 - val_accuracy: 0.7937\n",
      "Epoch 37/200\n",
      "3040/3040 [==============================] - 1s 412us/sample - loss: 0.3745 - accuracy: 0.8372 - val_loss: 0.4050 - val_accuracy: 0.7937\n",
      "Epoch 38/200\n",
      "3040/3040 [==============================] - 1s 438us/sample - loss: 0.3693 - accuracy: 0.8391 - val_loss: 0.4100 - val_accuracy: 0.7812\n",
      "Epoch 39/200\n",
      "3040/3040 [==============================] - 1s 406us/sample - loss: 0.3705 - accuracy: 0.8391 - val_loss: 0.4128 - val_accuracy: 0.7875\n",
      "Epoch 40/200\n",
      "3040/3040 [==============================] - 1s 406us/sample - loss: 0.3672 - accuracy: 0.8408 - val_loss: 0.4000 - val_accuracy: 0.8125\n",
      "Epoch 41/200\n",
      "3040/3040 [==============================] - 1s 392us/sample - loss: 0.3653 - accuracy: 0.8424 - val_loss: 0.4030 - val_accuracy: 0.8125\n",
      "Epoch 42/200\n",
      "3040/3040 [==============================] - 1s 397us/sample - loss: 0.3629 - accuracy: 0.8434 - val_loss: 0.4136 - val_accuracy: 0.7937\n",
      "Epoch 43/200\n",
      "3040/3040 [==============================] - 1s 475us/sample - loss: 0.3595 - accuracy: 0.8464 - val_loss: 0.3980 - val_accuracy: 0.8062\n",
      "Epoch 44/200\n",
      "3040/3040 [==============================] - 1s 387us/sample - loss: 0.3601 - accuracy: 0.8444 - val_loss: 0.3952 - val_accuracy: 0.7937\n",
      "Epoch 45/200\n",
      "3040/3040 [==============================] - 1s 391us/sample - loss: 0.3585 - accuracy: 0.8503 - val_loss: 0.3986 - val_accuracy: 0.8125\n",
      "Epoch 46/200\n",
      "3040/3040 [==============================] - 1s 392us/sample - loss: 0.3521 - accuracy: 0.8451 - val_loss: 0.3989 - val_accuracy: 0.7937\n",
      "Epoch 47/200\n",
      "3040/3040 [==============================] - 1s 389us/sample - loss: 0.3577 - accuracy: 0.8444 - val_loss: 0.3904 - val_accuracy: 0.7937\n",
      "Epoch 48/200\n",
      "3040/3040 [==============================] - 1s 388us/sample - loss: 0.3539 - accuracy: 0.8454 - val_loss: 0.3966 - val_accuracy: 0.7937\n",
      "Epoch 49/200\n",
      "3040/3040 [==============================] - 1s 387us/sample - loss: 0.3516 - accuracy: 0.8454 - val_loss: 0.3914 - val_accuracy: 0.8062\n",
      "Epoch 50/200\n",
      "3040/3040 [==============================] - 1s 397us/sample - loss: 0.3464 - accuracy: 0.8523 - val_loss: 0.3866 - val_accuracy: 0.8062\n",
      "Epoch 51/200\n",
      "3040/3040 [==============================] - 1s 421us/sample - loss: 0.3472 - accuracy: 0.8513 - val_loss: 0.3935 - val_accuracy: 0.8000\n",
      "Epoch 52/200\n",
      "3040/3040 [==============================] - 1s 393us/sample - loss: 0.3466 - accuracy: 0.8470 - val_loss: 0.3838 - val_accuracy: 0.8062\n",
      "Epoch 53/200\n",
      "3040/3040 [==============================] - 1s 392us/sample - loss: 0.3442 - accuracy: 0.8513 - val_loss: 0.3881 - val_accuracy: 0.7875\n",
      "Epoch 54/200\n",
      "3040/3040 [==============================] - 1s 391us/sample - loss: 0.3421 - accuracy: 0.8530 - val_loss: 0.3861 - val_accuracy: 0.8000\n",
      "Epoch 55/200\n"
     ]
    },
    {
     "name": "stdout",
     "output_type": "stream",
     "text": [
      "3040/3040 [==============================] - 1s 413us/sample - loss: 0.3409 - accuracy: 0.8543 - val_loss: 0.3865 - val_accuracy: 0.7937\n",
      "Epoch 56/200\n",
      "3040/3040 [==============================] - 1s 384us/sample - loss: 0.3436 - accuracy: 0.8487 - val_loss: 0.4016 - val_accuracy: 0.7937\n",
      "Epoch 57/200\n",
      "3040/3040 [==============================] - 1s 390us/sample - loss: 0.3388 - accuracy: 0.8520 - val_loss: 0.3796 - val_accuracy: 0.8000\n",
      "Epoch 58/200\n",
      "3040/3040 [==============================] - 1s 387us/sample - loss: 0.3380 - accuracy: 0.8543 - val_loss: 0.3975 - val_accuracy: 0.8000\n",
      "Epoch 59/200\n",
      "3040/3040 [==============================] - 1s 393us/sample - loss: 0.3390 - accuracy: 0.8493 - val_loss: 0.3913 - val_accuracy: 0.8062\n",
      "Epoch 60/200\n",
      "3040/3040 [==============================] - 1s 386us/sample - loss: 0.3379 - accuracy: 0.8533 - val_loss: 0.3882 - val_accuracy: 0.7937\n",
      "Epoch 61/200\n",
      "3040/3040 [==============================] - 1s 389us/sample - loss: 0.3370 - accuracy: 0.8586 - val_loss: 0.3891 - val_accuracy: 0.8062\n",
      "Epoch 62/200\n",
      "3040/3040 [==============================] - 1s 394us/sample - loss: 0.3320 - accuracy: 0.8572 - val_loss: 0.3808 - val_accuracy: 0.8125\n",
      "Epoch 63/200\n",
      "3040/3040 [==============================] - 1s 453us/sample - loss: 0.3325 - accuracy: 0.8572 - val_loss: 0.3942 - val_accuracy: 0.8000\n",
      "Epoch 64/200\n",
      "3040/3040 [==============================] - 1s 407us/sample - loss: 0.3331 - accuracy: 0.8533 - val_loss: 0.3812 - val_accuracy: 0.8062\n",
      "Epoch 65/200\n",
      "3040/3040 [==============================] - 1s 459us/sample - loss: 0.3292 - accuracy: 0.8576 - val_loss: 0.3772 - val_accuracy: 0.8000\n",
      "Epoch 66/200\n",
      "3040/3040 [==============================] - 1s 404us/sample - loss: 0.3322 - accuracy: 0.8576 - val_loss: 0.4061 - val_accuracy: 0.8125\n",
      "Epoch 67/200\n",
      "3040/3040 [==============================] - 1s 392us/sample - loss: 0.3299 - accuracy: 0.8576 - val_loss: 0.3903 - val_accuracy: 0.8188\n",
      "Epoch 68/200\n",
      "3040/3040 [==============================] - 1s 416us/sample - loss: 0.3274 - accuracy: 0.8635 - val_loss: 0.3960 - val_accuracy: 0.8125\n",
      "Epoch 69/200\n",
      "3040/3040 [==============================] - 1s 437us/sample - loss: 0.3274 - accuracy: 0.8566 - val_loss: 0.3876 - val_accuracy: 0.8062\n",
      "Epoch 70/200\n",
      "3040/3040 [==============================] - 1s 391us/sample - loss: 0.3264 - accuracy: 0.8582 - val_loss: 0.4045 - val_accuracy: 0.8125\n",
      "Epoch 71/200\n",
      "3040/3040 [==============================] - 1s 390us/sample - loss: 0.3335 - accuracy: 0.8589 - val_loss: 0.3722 - val_accuracy: 0.8125\n",
      "Epoch 72/200\n",
      "3040/3040 [==============================] - 1s 440us/sample - loss: 0.3226 - accuracy: 0.8635 - val_loss: 0.3703 - val_accuracy: 0.8125\n",
      "Epoch 73/200\n",
      "3040/3040 [==============================] - 1s 437us/sample - loss: 0.3224 - accuracy: 0.8625 - val_loss: 0.3710 - val_accuracy: 0.8125\n",
      "Epoch 74/200\n",
      "3040/3040 [==============================] - 1s 413us/sample - loss: 0.3217 - accuracy: 0.8645 - val_loss: 0.3708 - val_accuracy: 0.8188\n",
      "Epoch 75/200\n",
      "3040/3040 [==============================] - 1s 439us/sample - loss: 0.3204 - accuracy: 0.8664 - val_loss: 0.3710 - val_accuracy: 0.8188\n",
      "Epoch 76/200\n",
      "3040/3040 [==============================] - 1s 400us/sample - loss: 0.3220 - accuracy: 0.8671 - val_loss: 0.3753 - val_accuracy: 0.8062\n",
      "Epoch 77/200\n",
      "3040/3040 [==============================] - 1s 394us/sample - loss: 0.3220 - accuracy: 0.8625 - val_loss: 0.3937 - val_accuracy: 0.8062\n",
      "Epoch 78/200\n",
      "3040/3040 [==============================] - 1s 435us/sample - loss: 0.3213 - accuracy: 0.8628 - val_loss: 0.3852 - val_accuracy: 0.8125\n",
      "Epoch 79/200\n",
      "3040/3040 [==============================] - 1s 395us/sample - loss: 0.3160 - accuracy: 0.8671 - val_loss: 0.3843 - val_accuracy: 0.8188\n",
      "Epoch 80/200\n",
      "3040/3040 [==============================] - 1s 394us/sample - loss: 0.3181 - accuracy: 0.8628 - val_loss: 0.3703 - val_accuracy: 0.8313\n",
      "Epoch 81/200\n",
      "3040/3040 [==============================] - 1s 421us/sample - loss: 0.3180 - accuracy: 0.8674 - val_loss: 0.3814 - val_accuracy: 0.8313\n",
      "Epoch 82/200\n",
      "3040/3040 [==============================] - 1s 397us/sample - loss: 0.3141 - accuracy: 0.8714 - val_loss: 0.3690 - val_accuracy: 0.8188\n",
      "Epoch 83/200\n",
      "3040/3040 [==============================] - 1s 437us/sample - loss: 0.3120 - accuracy: 0.8701 - val_loss: 0.3725 - val_accuracy: 0.8250\n",
      "Epoch 84/200\n",
      "3040/3040 [==============================] - 1s 402us/sample - loss: 0.3197 - accuracy: 0.8681 - val_loss: 0.3693 - val_accuracy: 0.8250\n",
      "Epoch 85/200\n",
      "3040/3040 [==============================] - 1s 438us/sample - loss: 0.3118 - accuracy: 0.8651 - val_loss: 0.3691 - val_accuracy: 0.8188\n",
      "Epoch 86/200\n",
      "3040/3040 [==============================] - 1s 403us/sample - loss: 0.3123 - accuracy: 0.8730 - val_loss: 0.3885 - val_accuracy: 0.8188\n",
      "Epoch 87/200\n",
      "3040/3040 [==============================] - 1s 425us/sample - loss: 0.3114 - accuracy: 0.8638 - val_loss: 0.3677 - val_accuracy: 0.8250\n",
      "Epoch 88/200\n",
      "3040/3040 [==============================] - 1s 432us/sample - loss: 0.3094 - accuracy: 0.8697 - val_loss: 0.3743 - val_accuracy: 0.8375\n",
      "Epoch 89/200\n",
      "3040/3040 [==============================] - 1s 395us/sample - loss: 0.3119 - accuracy: 0.8730 - val_loss: 0.3690 - val_accuracy: 0.8250\n",
      "Epoch 90/200\n",
      "3040/3040 [==============================] - 1s 394us/sample - loss: 0.3092 - accuracy: 0.8740 - val_loss: 0.3667 - val_accuracy: 0.8250\n",
      "Epoch 91/200\n",
      "3040/3040 [==============================] - 1s 440us/sample - loss: 0.3088 - accuracy: 0.8734 - val_loss: 0.3716 - val_accuracy: 0.8438\n",
      "Epoch 92/200\n",
      "3040/3040 [==============================] - 1s 387us/sample - loss: 0.3099 - accuracy: 0.8707 - val_loss: 0.3743 - val_accuracy: 0.8313\n",
      "Epoch 93/200\n",
      "3040/3040 [==============================] - 1s 388us/sample - loss: 0.3050 - accuracy: 0.8760 - val_loss: 0.3663 - val_accuracy: 0.8625\n",
      "Epoch 94/200\n",
      "3040/3040 [==============================] - 1s 388us/sample - loss: 0.3073 - accuracy: 0.8701 - val_loss: 0.3619 - val_accuracy: 0.8188\n",
      "Epoch 95/200\n",
      "3040/3040 [==============================] - 1s 386us/sample - loss: 0.3089 - accuracy: 0.8691 - val_loss: 0.3657 - val_accuracy: 0.8250\n",
      "Epoch 96/200\n",
      "3040/3040 [==============================] - 1s 385us/sample - loss: 0.3062 - accuracy: 0.8720 - val_loss: 0.3730 - val_accuracy: 0.8375\n",
      "Epoch 97/200\n",
      "3040/3040 [==============================] - 1s 436us/sample - loss: 0.3033 - accuracy: 0.8753 - val_loss: 0.3770 - val_accuracy: 0.8188\n",
      "Epoch 98/200\n",
      "3040/3040 [==============================] - 1s 386us/sample - loss: 0.3041 - accuracy: 0.8720 - val_loss: 0.3813 - val_accuracy: 0.8313\n",
      "Epoch 99/200\n",
      "3040/3040 [==============================] - 1s 443us/sample - loss: 0.3051 - accuracy: 0.8806 - val_loss: 0.3635 - val_accuracy: 0.8250\n",
      "Epoch 100/200\n",
      "3040/3040 [==============================] - 1s 398us/sample - loss: 0.3021 - accuracy: 0.8770 - val_loss: 0.3619 - val_accuracy: 0.8188\n",
      "Epoch 101/200\n",
      "3040/3040 [==============================] - 1s 392us/sample - loss: 0.3016 - accuracy: 0.8747 - val_loss: 0.3860 - val_accuracy: 0.8250\n",
      "Epoch 102/200\n",
      "3040/3040 [==============================] - 1s 431us/sample - loss: 0.2974 - accuracy: 0.8757 - val_loss: 0.3622 - val_accuracy: 0.8562\n",
      "Epoch 103/200\n",
      "3040/3040 [==============================] - 1s 395us/sample - loss: 0.3038 - accuracy: 0.8707 - val_loss: 0.3684 - val_accuracy: 0.8313\n",
      "Epoch 104/200\n",
      "3040/3040 [==============================] - 1s 424us/sample - loss: 0.2969 - accuracy: 0.8793 - val_loss: 0.3623 - val_accuracy: 0.8250\n",
      "Epoch 105/200\n",
      "3040/3040 [==============================] - 1s 391us/sample - loss: 0.2959 - accuracy: 0.8776 - val_loss: 0.3797 - val_accuracy: 0.8188\n",
      "Epoch 106/200\n",
      "3040/3040 [==============================] - 1s 436us/sample - loss: 0.2952 - accuracy: 0.8770 - val_loss: 0.3756 - val_accuracy: 0.8313\n",
      "Epoch 107/200\n",
      "3040/3040 [==============================] - 1s 385us/sample - loss: 0.2966 - accuracy: 0.8796 - val_loss: 0.3666 - val_accuracy: 0.8500\n",
      "Epoch 108/200\n",
      "3040/3040 [==============================] - 1s 434us/sample - loss: 0.2966 - accuracy: 0.8783 - val_loss: 0.3588 - val_accuracy: 0.8375\n",
      "Epoch 109/200\n"
     ]
    },
    {
     "name": "stdout",
     "output_type": "stream",
     "text": [
      "3040/3040 [==============================] - 1s 413us/sample - loss: 0.2962 - accuracy: 0.8737 - val_loss: 0.3744 - val_accuracy: 0.8375\n",
      "Epoch 110/200\n",
      "3040/3040 [==============================] - 1s 392us/sample - loss: 0.2956 - accuracy: 0.8783 - val_loss: 0.3641 - val_accuracy: 0.8438\n",
      "Epoch 111/200\n",
      "3040/3040 [==============================] - 1s 380us/sample - loss: 0.2968 - accuracy: 0.8773 - val_loss: 0.3668 - val_accuracy: 0.8375\n",
      "Epoch 112/200\n",
      "3040/3040 [==============================] - 1s 382us/sample - loss: 0.2976 - accuracy: 0.8743 - val_loss: 0.3769 - val_accuracy: 0.8313\n",
      "Epoch 113/200\n",
      "3040/3040 [==============================] - 1s 422us/sample - loss: 0.2920 - accuracy: 0.8809 - val_loss: 0.3845 - val_accuracy: 0.8375\n",
      "Epoch 114/200\n",
      "3040/3040 [==============================] - 1s 436us/sample - loss: 0.2938 - accuracy: 0.8826 - val_loss: 0.3565 - val_accuracy: 0.8500\n",
      "Epoch 115/200\n",
      "3040/3040 [==============================] - 1s 390us/sample - loss: 0.2899 - accuracy: 0.8816 - val_loss: 0.3649 - val_accuracy: 0.8375\n",
      "Epoch 116/200\n",
      "3040/3040 [==============================] - 1s 387us/sample - loss: 0.2913 - accuracy: 0.8789 - val_loss: 0.3631 - val_accuracy: 0.8438\n",
      "Epoch 117/200\n",
      "3040/3040 [==============================] - 1s 380us/sample - loss: 0.2950 - accuracy: 0.8743 - val_loss: 0.3648 - val_accuracy: 0.8250\n",
      "Epoch 118/200\n",
      "3040/3040 [==============================] - 1s 386us/sample - loss: 0.2853 - accuracy: 0.8855 - val_loss: 0.3605 - val_accuracy: 0.8438\n",
      "Epoch 119/200\n",
      "3040/3040 [==============================] - 1s 385us/sample - loss: 0.2909 - accuracy: 0.8783 - val_loss: 0.3611 - val_accuracy: 0.8687\n",
      "Epoch 120/200\n",
      "3040/3040 [==============================] - 1s 427us/sample - loss: 0.2859 - accuracy: 0.8809 - val_loss: 0.3695 - val_accuracy: 0.8438\n",
      "Epoch 121/200\n",
      "3040/3040 [==============================] - 1s 419us/sample - loss: 0.2828 - accuracy: 0.8832 - val_loss: 0.3932 - val_accuracy: 0.8125\n",
      "Epoch 122/200\n",
      "3040/3040 [==============================] - 1s 374us/sample - loss: 0.2860 - accuracy: 0.8809 - val_loss: 0.3592 - val_accuracy: 0.8500\n",
      "Epoch 123/200\n",
      "3040/3040 [==============================] - 1s 376us/sample - loss: 0.2836 - accuracy: 0.8845 - val_loss: 0.3604 - val_accuracy: 0.8438\n",
      "Epoch 124/200\n",
      "3040/3040 [==============================] - 1s 377us/sample - loss: 0.2810 - accuracy: 0.8862 - val_loss: 0.3567 - val_accuracy: 0.8562\n",
      "Epoch 125/200\n",
      "3040/3040 [==============================] - 1s 391us/sample - loss: 0.2819 - accuracy: 0.8829 - val_loss: 0.3655 - val_accuracy: 0.8375\n",
      "Epoch 126/200\n",
      "3040/3040 [==============================] - 1s 428us/sample - loss: 0.2854 - accuracy: 0.8816 - val_loss: 0.3719 - val_accuracy: 0.8250\n",
      "Epoch 127/200\n",
      "3040/3040 [==============================] - 1s 385us/sample - loss: 0.2811 - accuracy: 0.8839 - val_loss: 0.3619 - val_accuracy: 0.8750\n",
      "Epoch 128/200\n",
      "3040/3040 [==============================] - 1s 388us/sample - loss: 0.2787 - accuracy: 0.8882 - val_loss: 0.3837 - val_accuracy: 0.8250\n",
      "Epoch 129/200\n",
      "3040/3040 [==============================] - 1s 375us/sample - loss: 0.2792 - accuracy: 0.8829 - val_loss: 0.3637 - val_accuracy: 0.8438\n",
      "Epoch 130/200\n",
      "3040/3040 [==============================] - 1s 378us/sample - loss: 0.2775 - accuracy: 0.8855 - val_loss: 0.3624 - val_accuracy: 0.8438\n",
      "Epoch 131/200\n",
      "3040/3040 [==============================] - 1s 387us/sample - loss: 0.2784 - accuracy: 0.8845 - val_loss: 0.3882 - val_accuracy: 0.8250\n",
      "Epoch 132/200\n",
      "3040/3040 [==============================] - 1s 385us/sample - loss: 0.2795 - accuracy: 0.8832 - val_loss: 0.3803 - val_accuracy: 0.8313\n",
      "Epoch 133/200\n",
      "3040/3040 [==============================] - 1s 386us/sample - loss: 0.2806 - accuracy: 0.8836 - val_loss: 0.3628 - val_accuracy: 0.8500\n",
      "Epoch 134/200\n",
      "3040/3040 [==============================] - 1s 388us/sample - loss: 0.2769 - accuracy: 0.8855 - val_loss: 0.3640 - val_accuracy: 0.8438\n",
      "Epoch 135/200\n",
      "3040/3040 [==============================] - 1s 403us/sample - loss: 0.2731 - accuracy: 0.8862 - val_loss: 0.3632 - val_accuracy: 0.8562\n",
      "Epoch 136/200\n",
      "3040/3040 [==============================] - 1s 429us/sample - loss: 0.2758 - accuracy: 0.8852 - val_loss: 0.3658 - val_accuracy: 0.8562\n",
      "Epoch 137/200\n",
      "3040/3040 [==============================] - 1s 396us/sample - loss: 0.2759 - accuracy: 0.8832 - val_loss: 0.3538 - val_accuracy: 0.8625\n",
      "Epoch 138/200\n",
      "3040/3040 [==============================] - 1s 395us/sample - loss: 0.2751 - accuracy: 0.8865 - val_loss: 0.3643 - val_accuracy: 0.8375\n",
      "Epoch 139/200\n",
      "3040/3040 [==============================] - 1s 430us/sample - loss: 0.2712 - accuracy: 0.8872 - val_loss: 0.3561 - val_accuracy: 0.8813\n",
      "Epoch 140/200\n",
      "3040/3040 [==============================] - 1s 397us/sample - loss: 0.2731 - accuracy: 0.8878 - val_loss: 0.3570 - val_accuracy: 0.8687\n",
      "Epoch 141/200\n",
      "3040/3040 [==============================] - 1s 435us/sample - loss: 0.2694 - accuracy: 0.8901 - val_loss: 0.3608 - val_accuracy: 0.8375\n",
      "Epoch 142/200\n",
      "3040/3040 [==============================] - 1s 386us/sample - loss: 0.2737 - accuracy: 0.8885 - val_loss: 0.3557 - val_accuracy: 0.8750\n",
      "Epoch 143/200\n",
      "3040/3040 [==============================] - 1s 393us/sample - loss: 0.2687 - accuracy: 0.8882 - val_loss: 0.3694 - val_accuracy: 0.8375\n",
      "Epoch 144/200\n",
      "3040/3040 [==============================] - 1s 389us/sample - loss: 0.2683 - accuracy: 0.8908 - val_loss: 0.3539 - val_accuracy: 0.8750\n",
      "Epoch 145/200\n",
      "3040/3040 [==============================] - 1s 394us/sample - loss: 0.2653 - accuracy: 0.8898 - val_loss: 0.3541 - val_accuracy: 0.8875\n",
      "Epoch 146/200\n",
      "3040/3040 [==============================] - 1s 387us/sample - loss: 0.2714 - accuracy: 0.8885 - val_loss: 0.3539 - val_accuracy: 0.8687\n",
      "Epoch 147/200\n",
      "3040/3040 [==============================] - 1s 429us/sample - loss: 0.2698 - accuracy: 0.8891 - val_loss: 0.3631 - val_accuracy: 0.8438\n",
      "Epoch 148/200\n",
      "3040/3040 [==============================] - 1s 387us/sample - loss: 0.2683 - accuracy: 0.8888 - val_loss: 0.3550 - val_accuracy: 0.8687\n",
      "Epoch 149/200\n",
      "3040/3040 [==============================] - 1s 390us/sample - loss: 0.2636 - accuracy: 0.8934 - val_loss: 0.3591 - val_accuracy: 0.8813\n",
      "Epoch 150/200\n",
      "3040/3040 [==============================] - 1s 431us/sample - loss: 0.2644 - accuracy: 0.8905 - val_loss: 0.3645 - val_accuracy: 0.8375\n",
      "Epoch 151/200\n",
      "3040/3040 [==============================] - 1s 428us/sample - loss: 0.2667 - accuracy: 0.8898 - val_loss: 0.3546 - val_accuracy: 0.8750\n",
      "Epoch 152/200\n",
      "3040/3040 [==============================] - 1s 387us/sample - loss: 0.2714 - accuracy: 0.8832 - val_loss: 0.3477 - val_accuracy: 0.8687\n",
      "Epoch 153/200\n",
      "3040/3040 [==============================] - 1s 385us/sample - loss: 0.2626 - accuracy: 0.8928 - val_loss: 0.3582 - val_accuracy: 0.8562\n",
      "Epoch 154/200\n",
      "3040/3040 [==============================] - 1s 386us/sample - loss: 0.2622 - accuracy: 0.8918 - val_loss: 0.3574 - val_accuracy: 0.8687\n",
      "Epoch 155/200\n",
      "3040/3040 [==============================] - 1s 427us/sample - loss: 0.2619 - accuracy: 0.8924 - val_loss: 0.3529 - val_accuracy: 0.8625\n",
      "Epoch 156/200\n",
      "3040/3040 [==============================] - 1s 393us/sample - loss: 0.2600 - accuracy: 0.8957 - val_loss: 0.3564 - val_accuracy: 0.8562\n",
      "Epoch 157/200\n",
      "3040/3040 [==============================] - 1s 389us/sample - loss: 0.2572 - accuracy: 0.8941 - val_loss: 0.3584 - val_accuracy: 0.8500\n",
      "Epoch 158/200\n",
      "3040/3040 [==============================] - 1s 386us/sample - loss: 0.2574 - accuracy: 0.8967 - val_loss: 0.3661 - val_accuracy: 0.8687\n",
      "Epoch 159/200\n",
      "3040/3040 [==============================] - 1s 385us/sample - loss: 0.2624 - accuracy: 0.8865 - val_loss: 0.3548 - val_accuracy: 0.8687\n",
      "Epoch 160/200\n",
      "3040/3040 [==============================] - 1s 423us/sample - loss: 0.2608 - accuracy: 0.8901 - val_loss: 0.3680 - val_accuracy: 0.8375\n",
      "Epoch 161/200\n",
      "3040/3040 [==============================] - 1s 393us/sample - loss: 0.2579 - accuracy: 0.8914 - val_loss: 0.3495 - val_accuracy: 0.8813\n",
      "Epoch 162/200\n",
      "3040/3040 [==============================] - 1s 390us/sample - loss: 0.2570 - accuracy: 0.8974 - val_loss: 0.3551 - val_accuracy: 0.8875\n",
      "Epoch 163/200\n"
     ]
    },
    {
     "name": "stdout",
     "output_type": "stream",
     "text": [
      "3040/3040 [==============================] - 1s 414us/sample - loss: 0.2565 - accuracy: 0.8911 - val_loss: 0.3592 - val_accuracy: 0.8625\n",
      "Epoch 164/200\n",
      "3040/3040 [==============================] - 1s 380us/sample - loss: 0.2597 - accuracy: 0.8951 - val_loss: 0.3779 - val_accuracy: 0.8250\n",
      "Epoch 165/200\n",
      "3040/3040 [==============================] - 1s 422us/sample - loss: 0.2543 - accuracy: 0.8954 - val_loss: 0.3679 - val_accuracy: 0.8438\n",
      "Epoch 166/200\n",
      "3040/3040 [==============================] - 1s 387us/sample - loss: 0.2587 - accuracy: 0.8941 - val_loss: 0.3766 - val_accuracy: 0.8438\n",
      "Epoch 167/200\n",
      "3040/3040 [==============================] - 1s 379us/sample - loss: 0.2550 - accuracy: 0.8941 - val_loss: 0.3844 - val_accuracy: 0.8375\n",
      "Epoch 168/200\n",
      "3040/3040 [==============================] - 1s 406us/sample - loss: 0.2550 - accuracy: 0.8980 - val_loss: 0.3466 - val_accuracy: 0.8750\n",
      "Epoch 169/200\n",
      "3040/3040 [==============================] - 1s 386us/sample - loss: 0.2513 - accuracy: 0.8990 - val_loss: 0.3504 - val_accuracy: 0.8750\n",
      "Epoch 170/200\n",
      "3040/3040 [==============================] - 1s 384us/sample - loss: 0.2493 - accuracy: 0.8964 - val_loss: 0.3662 - val_accuracy: 0.8438\n",
      "Epoch 171/200\n",
      "3040/3040 [==============================] - 1s 391us/sample - loss: 0.2514 - accuracy: 0.8944 - val_loss: 0.3484 - val_accuracy: 0.8750\n",
      "Epoch 172/200\n",
      "3040/3040 [==============================] - 1s 388us/sample - loss: 0.2505 - accuracy: 0.8997 - val_loss: 0.3734 - val_accuracy: 0.8375\n",
      "Epoch 173/200\n",
      "3040/3040 [==============================] - 1s 384us/sample - loss: 0.2577 - accuracy: 0.8921 - val_loss: 0.3694 - val_accuracy: 0.8500\n",
      "Epoch 174/200\n",
      "3040/3040 [==============================] - 1s 419us/sample - loss: 0.2479 - accuracy: 0.8990 - val_loss: 0.3802 - val_accuracy: 0.8313\n",
      "Epoch 175/200\n",
      "3040/3040 [==============================] - 1s 459us/sample - loss: 0.2482 - accuracy: 0.9023 - val_loss: 0.3554 - val_accuracy: 0.8687\n",
      "Epoch 176/200\n",
      "3040/3040 [==============================] - 1s 456us/sample - loss: 0.2552 - accuracy: 0.8918 - val_loss: 0.3586 - val_accuracy: 0.8438\n",
      "Epoch 177/200\n",
      "3040/3040 [==============================] - 1s 391us/sample - loss: 0.2462 - accuracy: 0.9016 - val_loss: 0.3544 - val_accuracy: 0.8625\n",
      "Epoch 178/200\n",
      "3040/3040 [==============================] - 1s 424us/sample - loss: 0.2471 - accuracy: 0.8944 - val_loss: 0.3572 - val_accuracy: 0.8813\n",
      "Epoch 179/200\n",
      "3040/3040 [==============================] - 1s 387us/sample - loss: 0.2462 - accuracy: 0.8987 - val_loss: 0.3519 - val_accuracy: 0.8750\n",
      "Epoch 180/200\n",
      "3040/3040 [==============================] - 1s 429us/sample - loss: 0.2444 - accuracy: 0.8990 - val_loss: 0.3531 - val_accuracy: 0.8625\n",
      "Epoch 181/200\n",
      "3040/3040 [==============================] - 1s 378us/sample - loss: 0.2453 - accuracy: 0.8980 - val_loss: 0.3601 - val_accuracy: 0.8625\n",
      "Epoch 182/200\n",
      "3040/3040 [==============================] - 1s 387us/sample - loss: 0.2457 - accuracy: 0.8990 - val_loss: 0.3506 - val_accuracy: 0.8875\n",
      "Epoch 183/200\n",
      "3040/3040 [==============================] - 1s 425us/sample - loss: 0.2419 - accuracy: 0.9020 - val_loss: 0.3624 - val_accuracy: 0.8625\n",
      "Epoch 184/200\n",
      "3040/3040 [==============================] - 1s 395us/sample - loss: 0.2397 - accuracy: 0.9033 - val_loss: 0.3520 - val_accuracy: 0.8875\n",
      "Epoch 185/200\n",
      "3040/3040 [==============================] - 1s 426us/sample - loss: 0.2430 - accuracy: 0.9007 - val_loss: 0.3603 - val_accuracy: 0.8750\n",
      "Epoch 186/200\n",
      "3040/3040 [==============================] - 1s 427us/sample - loss: 0.2413 - accuracy: 0.9003 - val_loss: 0.3561 - val_accuracy: 0.8687\n",
      "Epoch 187/200\n",
      "3040/3040 [==============================] - 1s 421us/sample - loss: 0.2445 - accuracy: 0.8980 - val_loss: 0.3492 - val_accuracy: 0.8813\n",
      "Epoch 188/200\n",
      "3040/3040 [==============================] - 1s 378us/sample - loss: 0.2393 - accuracy: 0.9036 - val_loss: 0.3572 - val_accuracy: 0.8687\n",
      "Epoch 189/200\n",
      "3040/3040 [==============================] - 1s 379us/sample - loss: 0.2447 - accuracy: 0.8967 - val_loss: 0.3526 - val_accuracy: 0.8813\n",
      "Epoch 190/200\n",
      "3040/3040 [==============================] - 1s 405us/sample - loss: 0.2404 - accuracy: 0.8997 - val_loss: 0.3698 - val_accuracy: 0.8500\n",
      "Epoch 191/200\n",
      "3040/3040 [==============================] - 1s 386us/sample - loss: 0.2360 - accuracy: 0.9020 - val_loss: 0.3524 - val_accuracy: 0.8687\n",
      "Epoch 192/200\n",
      "3040/3040 [==============================] - 1s 382us/sample - loss: 0.2351 - accuracy: 0.9053 - val_loss: 0.3692 - val_accuracy: 0.8687\n",
      "Epoch 193/200\n",
      "3040/3040 [==============================] - 1s 389us/sample - loss: 0.2416 - accuracy: 0.8993 - val_loss: 0.3625 - val_accuracy: 0.8813\n",
      "Epoch 00193: early stopping\n"
     ]
    },
    {
     "data": {
      "text/plain": [
       "<tensorflow.python.keras.callbacks.History at 0x7facb09d1290>"
      ]
     },
     "execution_count": 224,
     "metadata": {},
     "output_type": "execute_result"
    }
   ],
   "source": [
    "model.fit(x=X_train, \n",
    "          y=y_train,\n",
    "          batch_size=50,\n",
    "          epochs=200,\n",
    "          validation_data=(X_test, y_test),\n",
    "          verbose=1,\n",
    "          callbacks=[early_stop]\n",
    "          )"
   ]
  },
  {
   "cell_type": "code",
   "execution_count": 225,
   "metadata": {},
   "outputs": [
    {
     "data": {
      "text/plain": [
       "accuracy        0.905263\n",
       "val_accuracy    0.887500\n",
       "dtype: float64"
      ]
     },
     "execution_count": 225,
     "metadata": {},
     "output_type": "execute_result"
    }
   ],
   "source": [
    "model_loss = pd.DataFrame(model.history.history)\n",
    "model_loss[['accuracy','val_accuracy']].max()"
   ]
  },
  {
   "cell_type": "code",
   "execution_count": 226,
   "metadata": {},
   "outputs": [
    {
     "data": {
      "text/plain": [
       "<AxesSubplot:>"
      ]
     },
     "execution_count": 226,
     "metadata": {},
     "output_type": "execute_result"
    },
    {
     "data": {
      "image/png": "[encoded data removed]",
      "text/plain": [
       "<Figure size 720x720 with 1 Axes>"
      ]
     },
     "metadata": {
      "needs_background": "light"
     },
     "output_type": "display_data"
    }
   ],
   "source": [
    "model_loss.plot(figsize=(10,10))"
   ]
  },
  {
   "cell_type": "code",
   "execution_count": 227,
   "metadata": {},
   "outputs": [],
   "source": [
    "pred_prob = model.predict(X_test)\n",
    "pred_class = model.predict_classes(X_test)"
   ]
  },
  {
   "cell_type": "code",
   "execution_count": 228,
   "metadata": {},
   "outputs": [
    {
     "name": "stdout",
     "output_type": "stream",
     "text": [
      "              precision    recall  f1-score   support\n",
      "\n",
      "           0       0.86      0.91      0.89        81\n",
      "           1       0.91      0.85      0.88        79\n",
      "\n",
      "    accuracy                           0.88       160\n",
      "   macro avg       0.88      0.88      0.88       160\n",
      "weighted avg       0.88      0.88      0.88       160\n",
      "\n"
     ]
    }
   ],
   "source": [
    "print(classification_report(y_test,pred_class))"
   ]
  },
  {
   "cell_type": "code",
   "execution_count": 229,
   "metadata": {},
   "outputs": [
    {
     "name": "stdout",
     "output_type": "stream",
     "text": [
      "WARNING:tensorflow:From /opt/anaconda3/envs/tensorflow_env/lib/python3.7/site-packages/tensorflow_core/python/ops/resource_variable_ops.py:1781: calling BaseResourceVariable.__init__ (from tensorflow.python.ops.resource_variable_ops) with constraint is deprecated and will be removed in a future version.\n",
      "Instructions for updating:\n",
      "If using Keras pass *_constraint arguments to layers.\n",
      "INFO:tensorflow:Assets written to: img_class_CNNv1/assets\n"
     ]
    }
   ],
   "source": [
    "model.save('img_class_CNNv1')"
   ]
  },
  {
   "cell_type": "code",
   "execution_count": null,
   "metadata": {},
   "outputs": [],
   "source": []
  }
 ],
 "metadata": {
  "kernelspec": {
   "display_name": "Python 3",
   "language": "python",
   "name": "python3"
  },
  "language_info": {
   "codemirror_mode": {
    "name": "ipython",
    "version": 3
   },
   "file_extension": ".py",
   "mimetype": "text/x-python",
   "name": "python",
   "nbconvert_exporter": "python",
   "pygments_lexer": "ipython3",
   "version": "3.7.9"
  }
 },
 "nbformat": 4,
 "nbformat_minor": 4
}
