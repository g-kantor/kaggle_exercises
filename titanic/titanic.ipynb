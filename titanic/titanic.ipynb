{
 "cells": [
  {
   "cell_type": "code",
   "execution_count": 314,
   "id": "678b7623-2f2f-4cbc-a715-e464eebd58bf",
   "metadata": {},
   "outputs": [],
   "source": [
    "import numpy as np\n",
    "import pandas as pd\n",
    "import matplotlib.pyplot as plt\n",
    "import seaborn as sns\n",
    "\n",
    "%matplotlib inline"
   ]
  },
  {
   "cell_type": "markdown",
   "id": "9f635726-c453-42fb-8829-a056184e0559",
   "metadata": {
    "jp-MarkdownHeadingCollapsed": true,
    "tags": []
   },
   "source": [
    "# Data Processing (dropped na's)"
   ]
  },
  {
   "cell_type": "code",
   "execution_count": 709,
   "id": "15925615-6e44-4e7f-9d58-708348dd80cf",
   "metadata": {},
   "outputs": [],
   "source": [
    "train_df = pd.read_csv('train.csv')"
   ]
  },
  {
   "cell_type": "code",
   "execution_count": 710,
   "id": "71d1daf9-1adc-45f1-a16c-c71d3d28f4ac",
   "metadata": {},
   "outputs": [],
   "source": [
    "train_df = train_df.drop(columns=['Name', 'PassengerId', 'Ticket', 'Cabin'])"
   ]
  },
  {
   "cell_type": "code",
   "execution_count": 711,
   "id": "96977540-05b5-4be0-8302-deeefc2ca704",
   "metadata": {},
   "outputs": [
    {
     "data": {
      "text/plain": [
       "Survived    False\n",
       "Pclass      False\n",
       "Sex         False\n",
       "Age          True\n",
       "SibSp       False\n",
       "Parch       False\n",
       "Fare        False\n",
       "Embarked     True\n",
       "dtype: bool"
      ]
     },
     "execution_count": 711,
     "metadata": {},
     "output_type": "execute_result"
    }
   ],
   "source": [
    "train_df.isna().any()"
   ]
  },
  {
   "cell_type": "code",
   "execution_count": 712,
   "id": "272864bc-1b34-41a2-9161-938ddd8cf759",
   "metadata": {},
   "outputs": [],
   "source": [
    "train_df = train_df.dropna()"
   ]
  },
  {
   "cell_type": "code",
   "execution_count": 713,
   "id": "797f91d0-b7b1-4036-988e-c2b85c5ac27e",
   "metadata": {},
   "outputs": [],
   "source": [
    "train_df.loc[:, 'Sex'] = train_df['Sex'].replace(['male', 'female'], [1, 0])"
   ]
  },
  {
   "cell_type": "code",
   "execution_count": 714,
   "id": "4397d166-a905-4dd7-97a4-40f0ecd317c5",
   "metadata": {},
   "outputs": [],
   "source": [
    "train_df.loc[:, 'Embarked'] = train_df['Embarked'].replace(['S', 'C', 'Q'], [0, 1, 2])"
   ]
  },
  {
   "cell_type": "code",
   "execution_count": 716,
   "id": "533d4fdc-9293-4fed-be4e-0b9ca2114868",
   "metadata": {},
   "outputs": [],
   "source": [
    "X = train_df.loc[:, 'Pclass':'Embarked'].values\n",
    "y = train_df['Survived'].values"
   ]
  },
  {
   "cell_type": "markdown",
   "id": "a61b9a83-3d39-44c6-bd15-65cab47a0a76",
   "metadata": {},
   "source": [
    "# Data processing without dropping na's"
   ]
  },
  {
   "cell_type": "markdown",
   "id": "fd6ebf7d-b493-4f25-bd3a-15d239d56235",
   "metadata": {
    "jp-MarkdownHeadingCollapsed": true,
    "tags": []
   },
   "source": [
    "## Prepping datasets"
   ]
  },
  {
   "cell_type": "code",
   "execution_count": 736,
   "id": "65d0b5e1-5705-4a57-9e20-55bda0116c69",
   "metadata": {},
   "outputs": [],
   "source": [
    "train_df = pd.read_csv('train.csv')"
   ]
  },
  {
   "cell_type": "code",
   "execution_count": 737,
   "id": "691cd6ef-c799-4fcf-8e07-df47fed49525",
   "metadata": {},
   "outputs": [],
   "source": [
    "train_df = train_df.drop(columns=['Name', 'PassengerId', 'Ticket', 'Cabin', 'Survived'])\n",
    "train_df['female'] = train_df['Sex'].replace(['female', 'male'], [1, 0])\n",
    "train_df['male'] = train_df['Sex'].replace(['female', 'male'], [0, 1])\n",
    "train_df['third_class'] = train_df['Pclass'].replace([1, 2, 3], [0, 0, 1])\n",
    "train_df['second_class'] = train_df['Pclass'].replace([1, 2, 3], [0, 1, 0])\n",
    "train_df['first_class'] = train_df['Pclass'].replace([1, 2, 3], [1, 0, 0])\n",
    "train_df = train_df.drop(columns=['Pclass', 'Sex'])\n",
    "train_df.loc[:, 'Embarked'] = train_df['Embarked'].replace(['S', 'C', 'Q'], [int(0), int(1), int(2)])"
   ]
  },
  {
   "cell_type": "code",
   "execution_count": 738,
   "id": "5309c960-e216-487e-abfe-4fea3e7ec44d",
   "metadata": {},
   "outputs": [
    {
     "data": {
      "text/plain": [
       "Age              True\n",
       "SibSp           False\n",
       "Parch           False\n",
       "Fare            False\n",
       "Embarked         True\n",
       "female          False\n",
       "male            False\n",
       "third_class     False\n",
       "second_class    False\n",
       "first_class     False\n",
       "dtype: bool"
      ]
     },
     "execution_count": 738,
     "metadata": {},
     "output_type": "execute_result"
    }
   ],
   "source": [
    "train_df.isna().any()"
   ]
  },
  {
   "cell_type": "code",
   "execution_count": 742,
   "id": "a2adb046-3e89-40c3-8d21-aeed7a0df18c",
   "metadata": {},
   "outputs": [],
   "source": [
    "pred_age = train_df[train_df['Age'].isna()].drop(columns=['Embarked', 'Age'])\n",
    "pred_emb = train_df[train_df['Embarked'].isna()].drop(columns=['Embarked', 'Age'])"
   ]
  },
  {
   "cell_type": "code",
   "execution_count": 743,
   "id": "86da59f7-27e7-42a6-8795-1f974d3e8f62",
   "metadata": {},
   "outputs": [],
   "source": [
    "train_age = train_df.drop(index=pred_df_age.index).drop(columns=['Embarked'])\n",
    "train_emb = train_df.drop(index=pred_df_emb.index).drop(columns=['Age'])"
   ]
  },
  {
   "cell_type": "code",
   "execution_count": 741,
   "id": "4ff1c348-56d5-4b3d-a525-9def1a564ed1",
   "metadata": {},
   "outputs": [],
   "source": [
    "train_emb['Embarked'] = train_emb['Embarked'].astype('int64')"
   ]
  },
  {
   "cell_type": "markdown",
   "id": "088a1bdb-8a92-401b-8135-16fabbcb4a28",
   "metadata": {
    "jp-MarkdownHeadingCollapsed": true,
    "tags": []
   },
   "source": [
    "## Filling gaps with KNN"
   ]
  },
  {
   "cell_type": "code",
   "execution_count": 744,
   "id": "8c49935e-bc35-4ddf-bb98-1dc06bd0f0dd",
   "metadata": {},
   "outputs": [],
   "source": [
    "from sklearn.neighbors import KNeighborsClassifier\n",
    "from sklearn.neighbors import KNeighborsRegressor\n",
    "from sklearn.linear_model import LinearRegression\n",
    "from sklearn.metrics import accuracy_score\n",
    "from sklearn.metrics import mean_squared_error\n",
    "from sklearn.model_selection import GridSearchCV"
   ]
  },
  {
   "cell_type": "code",
   "execution_count": 496,
   "id": "6a49f724-a172-419e-840d-5cf425842f49",
   "metadata": {},
   "outputs": [],
   "source": [
    "X_train_age = train_age.drop(columns='Age').values\n",
    "y_train_age = train_age['Age'].values\n",
    "X_train_emb = train_emb.drop(columns='Embarked').values\n",
    "y_train_emb = train_emb['Embarked'].values\n",
    "\n",
    "X_pred_age = pred_age.values\n",
    "X_pred_emb = pred_emb.values"
   ]
  },
  {
   "cell_type": "code",
   "execution_count": 513,
   "id": "a94f1352-83fc-48e9-9967-17f185364939",
   "metadata": {},
   "outputs": [],
   "source": [
    "knc = KNeighborsClassifier()\n",
    "knr = KNeighborsRegressor()\n",
    "lnr = LinearRegression()"
   ]
  },
  {
   "cell_type": "code",
   "execution_count": 748,
   "id": "3fc4b5ed-dd2f-4ba6-be5e-8177f011267d",
   "metadata": {},
   "outputs": [],
   "source": [
    "params = [{'n_neighbors': [1, 2, 3, 4, 5, 6]}]"
   ]
  },
  {
   "cell_type": "code",
   "execution_count": 531,
   "id": "8fbc9696-3224-480e-89fa-2b779020546c",
   "metadata": {},
   "outputs": [
    {
     "name": "stdout",
     "output_type": "stream",
     "text": [
      "{'n_neighbors': 1}\n",
      "0.9493813273340832\n"
     ]
    }
   ],
   "source": [
    "gsc = GridSearchCV(estimator=knc, param_grid=params, scoring='accuracy', cv=25)\n",
    "gsc.fit(X_train_emb, y_train_emb)\n",
    "print(gsc.best_params_)\n",
    "print(gsc.score(X_train_emb, y_train_emb))"
   ]
  },
  {
   "cell_type": "code",
   "execution_count": 537,
   "id": "3eb7dd44-a574-42a3-8c64-ac9fac60d695",
   "metadata": {},
   "outputs": [
    {
     "name": "stdout",
     "output_type": "stream",
     "text": [
      "{'n_neighbors': 5}\n",
      "0.3817154025791778\n"
     ]
    }
   ],
   "source": [
    "gsr = GridSearchCV(estimator=knr, param_grid=params, scoring='r2', cv=25)\n",
    "gsr.fit(X_train_age, y_train_age)\n",
    "print(gsr.best_params_)\n",
    "print(gsr.score(X_train_age, y_train_age))"
   ]
  },
  {
   "cell_type": "code",
   "execution_count": 544,
   "id": "e460bb20-4779-4d90-b616-2b88dbdd15d1",
   "metadata": {},
   "outputs": [],
   "source": [
    "sub_vals_emb = pd.Series(gsc.predict(X_pred_emb), index=pred_emb.index)"
   ]
  },
  {
   "cell_type": "code",
   "execution_count": 555,
   "id": "825278fa-8ed5-4c31-bcdb-9a4274ec3c4c",
   "metadata": {},
   "outputs": [],
   "source": [
    "filled_emb_col = train_df['Embarked'].fillna(sub_vals_emb)"
   ]
  },
  {
   "cell_type": "code",
   "execution_count": 558,
   "id": "6cbca6bf-752f-4951-a9bf-c5e0d736ee25",
   "metadata": {},
   "outputs": [],
   "source": [
    "sub_vals_age = pd.Series(gsr.predict(X_pred_age), index=pred_age.index)"
   ]
  },
  {
   "cell_type": "code",
   "execution_count": 560,
   "id": "ae7cebad-93be-44d7-bda2-6d50efafc2ee",
   "metadata": {},
   "outputs": [],
   "source": [
    "filled_age_col = train_df['Age'].fillna(sub_vals_age)"
   ]
  },
  {
   "cell_type": "code",
   "execution_count": 561,
   "id": "69371ea3-61d9-4e10-ad40-66b7cde45c28",
   "metadata": {},
   "outputs": [],
   "source": [
    "train_no_na = train_df.copy()\n",
    "train_no_na['Age'] = filled_age_col\n",
    "train_no_na['Embarked'] = filled_emb_col"
   ]
  },
  {
   "cell_type": "code",
   "execution_count": 565,
   "id": "da54e358-f584-4678-bff0-6b3a3bb32c06",
   "metadata": {},
   "outputs": [
    {
     "data": {
      "text/plain": [
       "Age             False\n",
       "SibSp           False\n",
       "Parch           False\n",
       "Fare            False\n",
       "Embarked        False\n",
       "female          False\n",
       "male            False\n",
       "third_class     False\n",
       "second_class    False\n",
       "first_class     False\n",
       "dtype: bool"
      ]
     },
     "execution_count": 565,
     "metadata": {},
     "output_type": "execute_result"
    }
   ],
   "source": [
    "train_no_na.isna().any()"
   ]
  },
  {
   "cell_type": "code",
   "execution_count": 745,
   "id": "eb8d966b-a3d2-45d5-b836-ee22b08d47b5",
   "metadata": {},
   "outputs": [],
   "source": [
    "X_train_fare = train_no_na.drop(columns='Fare').values\n",
    "y_train_fare = train_no_na['Fare'].values"
   ]
  },
  {
   "cell_type": "code",
   "execution_count": 752,
   "id": "6cda9048-22b5-4899-b849-b7df6ddeafbd",
   "metadata": {},
   "outputs": [
    {
     "name": "stdout",
     "output_type": "stream",
     "text": [
      "{'n_neighbors': 6}\n",
      "0.48209705464948893\n"
     ]
    }
   ],
   "source": [
    "gsr_fare = GridSearchCV(estimator=knr, param_grid=params, scoring='r2', cv=25)\n",
    "gsr_fare.fit(X_train_fare, y_train_fare)\n",
    "print(gsr_fare.best_params_)\n",
    "print(gsr_fare.score(X_train_fare, y_train_fare))"
   ]
  },
  {
   "cell_type": "markdown",
   "id": "07cf002e-99cd-46a1-ab9f-9af2d96de072",
   "metadata": {
    "jp-MarkdownHeadingCollapsed": true,
    "tags": []
   },
   "source": [
    "# Random Forest Classifier (filled na's)"
   ]
  },
  {
   "cell_type": "markdown",
   "id": "21a5bdf1-6dc8-42c5-aa0d-4f2a273b209e",
   "metadata": {
    "jp-MarkdownHeadingCollapsed": true,
    "tags": []
   },
   "source": [
    "## One-hot classes"
   ]
  },
  {
   "cell_type": "code",
   "execution_count": 770,
   "id": "14fd8482-f19f-45eb-b503-133171c50025",
   "metadata": {},
   "outputs": [],
   "source": [
    "from sklearn.model_selection import train_test_split\n",
    "from sklearn.preprocessing import StandardScaler\n",
    "from sklearn.ensemble import RandomForestClassifier\n",
    "from sklearn.metrics import confusion_matrix\n",
    "from sklearn.metrics import accuracy_score\n",
    "from sklearn.model_selection import GridSearchCV\n",
    "\n",
    "train_df_1 = pd.read_csv('train.csv')"
   ]
  },
  {
   "cell_type": "code",
   "execution_count": 771,
   "id": "8b938f1d-fda3-42f4-b10b-805733051e6c",
   "metadata": {},
   "outputs": [],
   "source": [
    "X = train_no_na.values\n",
    "y = train_df_1['Survived'].values"
   ]
  },
  {
   "cell_type": "code",
   "execution_count": 772,
   "id": "ba6cd401-1887-4249-974a-08aca595141c",
   "metadata": {},
   "outputs": [],
   "source": [
    "temp_X = np.zeros((len(X), 2))\n",
    "temp_X[:, 0] = X[:, 0]\n",
    "temp_X[:, 1] = X[:, 3]"
   ]
  },
  {
   "cell_type": "code",
   "execution_count": 773,
   "id": "3e6e4aef-92ec-43fd-b82b-11d6071045bb",
   "metadata": {},
   "outputs": [],
   "source": [
    "scaler = StandardScaler().fit(temp_X)"
   ]
  },
  {
   "cell_type": "code",
   "execution_count": 774,
   "id": "318c887d-4fb5-4f14-a325-b3d0d8bc2b30",
   "metadata": {},
   "outputs": [],
   "source": [
    "temp_X = scaler.transform(temp_X)"
   ]
  },
  {
   "cell_type": "code",
   "execution_count": 775,
   "id": "aca510e0-a154-4199-9c18-5f5f117b9997",
   "metadata": {},
   "outputs": [],
   "source": [
    "scaled_X = np.copy(X)\n",
    "scaled_X[:, 0] = temp_X[:, 0]\n",
    "scaled_X[:, 3] = temp_X[:, 1]"
   ]
  },
  {
   "cell_type": "code",
   "execution_count": 776,
   "id": "10b00566-74f3-45da-b949-4f751bd9a5c4",
   "metadata": {},
   "outputs": [],
   "source": [
    "params = [{'max_depth': [4, 6, 8], 'n_estimators': [100], \n",
    "          'min_samples_split':[6, 7, 8]}]"
   ]
  },
  {
   "cell_type": "code",
   "execution_count": 777,
   "id": "8ebcd37c-8779-480f-a65c-56fa88a6700d",
   "metadata": {},
   "outputs": [
    {
     "name": "stdout",
     "output_type": "stream",
     "text": [
      "{'max_depth': 8, 'min_samples_split': 7, 'n_estimators': 100}\n",
      "0.8350793650793651\n"
     ]
    }
   ],
   "source": [
    "rfc = RandomForestClassifier()\n",
    "\n",
    "gs = GridSearchCV(estimator=rfc, param_grid=params, scoring='accuracy', cv=25)\n",
    "gs.fit(scaled_X, y)\n",
    "print(gs.best_params_)\n",
    "print(gs.best_score_)"
   ]
  },
  {
   "cell_type": "code",
   "execution_count": 778,
   "id": "a865522e-af1e-4b8f-ab2d-991b0e4d85bd",
   "metadata": {},
   "outputs": [
    {
     "data": {
      "text/plain": [
       "0.8978675645342312"
      ]
     },
     "execution_count": 778,
     "metadata": {},
     "output_type": "execute_result"
    }
   ],
   "source": [
    "gs.score(scaled_X, y) #REMEMBER THAT THIS IS FOR TRAINING SET, don't overfit."
   ]
  },
  {
   "cell_type": "markdown",
   "id": "f2a211b9-f5e6-4a38-ba75-1de81a2ad106",
   "metadata": {
    "jp-MarkdownHeadingCollapsed": true,
    "tags": []
   },
   "source": [
    "## Regular classes"
   ]
  },
  {
   "cell_type": "code",
   "execution_count": 700,
   "id": "cacb1275-196f-41ea-82d8-fd748a3613dc",
   "metadata": {},
   "outputs": [],
   "source": [
    "from sklearn.model_selection import train_test_split\n",
    "from sklearn.preprocessing import StandardScaler\n",
    "from sklearn.ensemble import RandomForestClassifier\n",
    "from sklearn.metrics import confusion_matrix\n",
    "from sklearn.metrics import accuracy_score\n",
    "from sklearn.model_selection import GridSearchCV\n",
    "\n",
    "train_df_1 = pd.read_csv('train.csv')"
   ]
  },
  {
   "cell_type": "code",
   "execution_count": 701,
   "id": "215e391e-3c25-425d-a173-e6ad36a8a236",
   "metadata": {},
   "outputs": [],
   "source": [
    "train_reg = train_no_na.copy()\n",
    "train_reg['Class'] = train_reg['first_class'] + 2*train_reg['second_class'] + 3*train_reg['third_class']\n",
    "train_reg['Gender'] = train_reg['male']\n",
    "train_reg = train_reg.drop(columns=['female', 'male', 'first_class', 'second_class', 'third_class'])"
   ]
  },
  {
   "cell_type": "code",
   "execution_count": 703,
   "id": "0274e10e-fc44-4085-9114-10c740142387",
   "metadata": {},
   "outputs": [],
   "source": [
    "X = train_reg.values\n",
    "y = train_df_1['Survived'].values"
   ]
  },
  {
   "cell_type": "code",
   "execution_count": 704,
   "id": "4d94c1c8-81c2-4c20-bfc2-d23534b34cc1",
   "metadata": {},
   "outputs": [],
   "source": [
    "temp_X = np.zeros((len(X), 2))\n",
    "temp_X[:, 0] = X[:, 0]\n",
    "temp_X[:, 1] = X[:, 3]"
   ]
  },
  {
   "cell_type": "code",
   "execution_count": 705,
   "id": "97e34629-ab15-4779-bcbc-ea053a2a960c",
   "metadata": {},
   "outputs": [],
   "source": [
    "scaler = StandardScaler().fit(temp_X)\n",
    "temp_X = scaler.transform(temp_X)\n",
    "scaled_X = np.copy(X)\n",
    "scaled_X[:, 0] = temp_X[:, 0]\n",
    "scaled_X[:, 3] = temp_X[:, 1]"
   ]
  },
  {
   "cell_type": "code",
   "execution_count": 706,
   "id": "24348b3b-08b2-4a5d-bd28-0e3d4b5d0f42",
   "metadata": {},
   "outputs": [],
   "source": [
    "params = [{'max_depth': [4, 6, 8], 'n_estimators': [100], \n",
    "          'min_samples_split':[6, 7, 8]}]"
   ]
  },
  {
   "cell_type": "code",
   "execution_count": 707,
   "id": "97ca3ef4-b5bf-40d9-8433-19e37fdd48a1",
   "metadata": {},
   "outputs": [
    {
     "name": "stdout",
     "output_type": "stream",
     "text": [
      "{'max_depth': 8, 'min_samples_split': 6, 'n_estimators': 100}\n",
      "0.8327936507936508\n"
     ]
    }
   ],
   "source": [
    "rfc = RandomForestClassifier()\n",
    "\n",
    "gs = GridSearchCV(estimator=rfc, param_grid=params, scoring='accuracy', cv=25)\n",
    "gs.fit(scaled_X, y)\n",
    "print(gs.best_params_)\n",
    "print(gs.best_score_)"
   ]
  },
  {
   "cell_type": "code",
   "execution_count": 708,
   "id": "e41b56cf-eb5b-4db7-ab1e-4aa58660741e",
   "metadata": {},
   "outputs": [
    {
     "data": {
      "text/plain": [
       "0.9023569023569024"
      ]
     },
     "execution_count": 708,
     "metadata": {},
     "output_type": "execute_result"
    }
   ],
   "source": [
    "gs.score(scaled_X, y)"
   ]
  },
  {
   "cell_type": "markdown",
   "id": "dc59cff9-91ee-4232-a5c7-3b7f05e542b5",
   "metadata": {
    "jp-MarkdownHeadingCollapsed": true,
    "tags": []
   },
   "source": [
    "# Random Forest Classifier (dropped na's)"
   ]
  },
  {
   "cell_type": "code",
   "execution_count": 723,
   "id": "5194a18f-be22-40ed-9aae-b3ccf1941a50",
   "metadata": {},
   "outputs": [],
   "source": [
    "from sklearn.model_selection import train_test_split\n",
    "from sklearn.preprocessing import StandardScaler"
   ]
  },
  {
   "cell_type": "code",
   "execution_count": 724,
   "id": "688e55f9-5078-4e70-9940-2a1e3d24a1c4",
   "metadata": {},
   "outputs": [],
   "source": [
    "scaler = StandardScaler().fit(X_train[:, 5].reshape((-1, 1)))"
   ]
  },
  {
   "cell_type": "code",
   "execution_count": 725,
   "id": "9db7babf-e38e-4acf-82c3-7b6df0a2bb79",
   "metadata": {},
   "outputs": [],
   "source": [
    "X[:, 5] = scaler.transform(X[:, 5].reshape((-1, 1))).reshape(len(X[:, 5]))"
   ]
  },
  {
   "cell_type": "code",
   "execution_count": 726,
   "id": "47f7848e-0783-4c42-9efc-01dd5af7e99d",
   "metadata": {},
   "outputs": [],
   "source": [
    "from sklearn.ensemble import RandomForestClassifier"
   ]
  },
  {
   "cell_type": "code",
   "execution_count": 727,
   "id": "e902da2f-d419-4419-9ad8-bb8981be2098",
   "metadata": {},
   "outputs": [],
   "source": [
    "from sklearn.metrics import confusion_matrix\n",
    "from sklearn.metrics import accuracy_score\n",
    "from sklearn.model_selection import GridSearchCV"
   ]
  },
  {
   "cell_type": "code",
   "execution_count": 728,
   "id": "9d7c5d8e-eba6-4a77-8428-05b97f17231f",
   "metadata": {},
   "outputs": [],
   "source": [
    "params = [{'max_depth': [4, 6, 8], 'n_estimators': [100], \n",
    "          'min_samples_split':[6, 7, 8]}]"
   ]
  },
  {
   "cell_type": "code",
   "execution_count": 729,
   "id": "02e54660-4e3f-4b62-a4c2-f2845081b038",
   "metadata": {},
   "outputs": [
    {
     "name": "stdout",
     "output_type": "stream",
     "text": [
      "{'max_depth': 4, 'min_samples_split': 6, 'n_estimators': 100}\n",
      "0.8189655172413792\n"
     ]
    }
   ],
   "source": [
    "rfc = RandomForestClassifier()\n",
    "\n",
    "gs = GridSearchCV(estimator=rfc, param_grid=params, scoring='accuracy', cv=25)\n",
    "gs.fit(X, y)\n",
    "print(gs.best_params_)\n",
    "print(gs.best_score_)"
   ]
  },
  {
   "cell_type": "code",
   "execution_count": 730,
   "id": "82e5945a-f0fd-45c5-b1ea-b7e17425c32b",
   "metadata": {},
   "outputs": [
    {
     "data": {
      "text/plain": [
       "0.8384831460674157"
      ]
     },
     "execution_count": 730,
     "metadata": {},
     "output_type": "execute_result"
    }
   ],
   "source": [
    "gs.score(X, y)"
   ]
  },
  {
   "cell_type": "markdown",
   "id": "32f1ca0b-debc-4942-adb5-20342d367719",
   "metadata": {
    "jp-MarkdownHeadingCollapsed": true,
    "tags": []
   },
   "source": [
    "# Data processing: One-hot encoding categoricals (dropped na's)"
   ]
  },
  {
   "cell_type": "code",
   "execution_count": 179,
   "id": "431d7bb2-1c94-4ede-9c24-feba4472f51f",
   "metadata": {},
   "outputs": [],
   "source": [
    "train_df = pd.read_csv('train.csv')\n",
    "train_df = train_df.drop(columns=['Name', 'PassengerId', 'Ticket', 'Cabin'])\n",
    "train_df = train_df.dropna()"
   ]
  },
  {
   "cell_type": "code",
   "execution_count": 180,
   "id": "030746a2-aa1b-45f6-8afb-5c06ce77aa33",
   "metadata": {},
   "outputs": [
    {
     "data": {
      "text/html": [
       "<div>\n",
       "<style scoped>\n",
       "    .dataframe tbody tr th:only-of-type {\n",
       "        vertical-align: middle;\n",
       "    }\n",
       "\n",
       "    .dataframe tbody tr th {\n",
       "        vertical-align: top;\n",
       "    }\n",
       "\n",
       "    .dataframe thead th {\n",
       "        text-align: right;\n",
       "    }\n",
       "</style>\n",
       "<table border=\"1\" class=\"dataframe\">\n",
       "  <thead>\n",
       "    <tr style=\"text-align: right;\">\n",
       "      <th></th>\n",
       "      <th>Survived</th>\n",
       "      <th>Pclass</th>\n",
       "      <th>Sex</th>\n",
       "      <th>Age</th>\n",
       "      <th>SibSp</th>\n",
       "      <th>Parch</th>\n",
       "      <th>Fare</th>\n",
       "      <th>Embarked</th>\n",
       "    </tr>\n",
       "  </thead>\n",
       "  <tbody>\n",
       "    <tr>\n",
       "      <th>0</th>\n",
       "      <td>0</td>\n",
       "      <td>3</td>\n",
       "      <td>male</td>\n",
       "      <td>22.0</td>\n",
       "      <td>1</td>\n",
       "      <td>0</td>\n",
       "      <td>7.2500</td>\n",
       "      <td>S</td>\n",
       "    </tr>\n",
       "    <tr>\n",
       "      <th>1</th>\n",
       "      <td>1</td>\n",
       "      <td>1</td>\n",
       "      <td>female</td>\n",
       "      <td>38.0</td>\n",
       "      <td>1</td>\n",
       "      <td>0</td>\n",
       "      <td>71.2833</td>\n",
       "      <td>C</td>\n",
       "    </tr>\n",
       "    <tr>\n",
       "      <th>2</th>\n",
       "      <td>1</td>\n",
       "      <td>3</td>\n",
       "      <td>female</td>\n",
       "      <td>26.0</td>\n",
       "      <td>0</td>\n",
       "      <td>0</td>\n",
       "      <td>7.9250</td>\n",
       "      <td>S</td>\n",
       "    </tr>\n",
       "    <tr>\n",
       "      <th>3</th>\n",
       "      <td>1</td>\n",
       "      <td>1</td>\n",
       "      <td>female</td>\n",
       "      <td>35.0</td>\n",
       "      <td>1</td>\n",
       "      <td>0</td>\n",
       "      <td>53.1000</td>\n",
       "      <td>S</td>\n",
       "    </tr>\n",
       "    <tr>\n",
       "      <th>4</th>\n",
       "      <td>0</td>\n",
       "      <td>3</td>\n",
       "      <td>male</td>\n",
       "      <td>35.0</td>\n",
       "      <td>0</td>\n",
       "      <td>0</td>\n",
       "      <td>8.0500</td>\n",
       "      <td>S</td>\n",
       "    </tr>\n",
       "    <tr>\n",
       "      <th>...</th>\n",
       "      <td>...</td>\n",
       "      <td>...</td>\n",
       "      <td>...</td>\n",
       "      <td>...</td>\n",
       "      <td>...</td>\n",
       "      <td>...</td>\n",
       "      <td>...</td>\n",
       "      <td>...</td>\n",
       "    </tr>\n",
       "    <tr>\n",
       "      <th>885</th>\n",
       "      <td>0</td>\n",
       "      <td>3</td>\n",
       "      <td>female</td>\n",
       "      <td>39.0</td>\n",
       "      <td>0</td>\n",
       "      <td>5</td>\n",
       "      <td>29.1250</td>\n",
       "      <td>Q</td>\n",
       "    </tr>\n",
       "    <tr>\n",
       "      <th>886</th>\n",
       "      <td>0</td>\n",
       "      <td>2</td>\n",
       "      <td>male</td>\n",
       "      <td>27.0</td>\n",
       "      <td>0</td>\n",
       "      <td>0</td>\n",
       "      <td>13.0000</td>\n",
       "      <td>S</td>\n",
       "    </tr>\n",
       "    <tr>\n",
       "      <th>887</th>\n",
       "      <td>1</td>\n",
       "      <td>1</td>\n",
       "      <td>female</td>\n",
       "      <td>19.0</td>\n",
       "      <td>0</td>\n",
       "      <td>0</td>\n",
       "      <td>30.0000</td>\n",
       "      <td>S</td>\n",
       "    </tr>\n",
       "    <tr>\n",
       "      <th>889</th>\n",
       "      <td>1</td>\n",
       "      <td>1</td>\n",
       "      <td>male</td>\n",
       "      <td>26.0</td>\n",
       "      <td>0</td>\n",
       "      <td>0</td>\n",
       "      <td>30.0000</td>\n",
       "      <td>C</td>\n",
       "    </tr>\n",
       "    <tr>\n",
       "      <th>890</th>\n",
       "      <td>0</td>\n",
       "      <td>3</td>\n",
       "      <td>male</td>\n",
       "      <td>32.0</td>\n",
       "      <td>0</td>\n",
       "      <td>0</td>\n",
       "      <td>7.7500</td>\n",
       "      <td>Q</td>\n",
       "    </tr>\n",
       "  </tbody>\n",
       "</table>\n",
       "<p>712 rows × 8 columns</p>\n",
       "</div>"
      ],
      "text/plain": [
       "     Survived  Pclass     Sex   Age  SibSp  Parch     Fare Embarked\n",
       "0           0       3    male  22.0      1      0   7.2500        S\n",
       "1           1       1  female  38.0      1      0  71.2833        C\n",
       "2           1       3  female  26.0      0      0   7.9250        S\n",
       "3           1       1  female  35.0      1      0  53.1000        S\n",
       "4           0       3    male  35.0      0      0   8.0500        S\n",
       "..        ...     ...     ...   ...    ...    ...      ...      ...\n",
       "885         0       3  female  39.0      0      5  29.1250        Q\n",
       "886         0       2    male  27.0      0      0  13.0000        S\n",
       "887         1       1  female  19.0      0      0  30.0000        S\n",
       "889         1       1    male  26.0      0      0  30.0000        C\n",
       "890         0       3    male  32.0      0      0   7.7500        Q\n",
       "\n",
       "[712 rows x 8 columns]"
      ]
     },
     "execution_count": 180,
     "metadata": {},
     "output_type": "execute_result"
    }
   ],
   "source": [
    "train_df"
   ]
  },
  {
   "cell_type": "code",
   "execution_count": 193,
   "id": "33ca8c03-3d52-455c-90d6-20b4d433aa70",
   "metadata": {},
   "outputs": [],
   "source": [
    "train_df['female'] = train_df['Sex'].replace(['female', 'male'], [1, 0])\n",
    "train_df['male'] = train_df['Sex'].replace(['female', 'male'], [0, 1])\n",
    "train_df['third_class'] = train_df['Pclass'].replace([1, 2, 3], [0, 0, 1])\n",
    "train_df['second_class'] = train_df['Pclass'].replace([1, 2, 3], [0, 1, 0])\n",
    "train_df['first_class'] = train_df['Pclass'].replace([1, 2, 3], [1, 0, 0])\n",
    "train_df['s'] = train_df['Embarked'].replace(['S', 'C', 'Q'], [1, 0, 0])\n",
    "train_df['c'] = train_df['Embarked'].replace(['S', 'C', 'Q'], [0, 1, 0])\n",
    "train_df['q'] = train_df['Embarked'].replace(['S', 'C', 'Q'], [0, 0, 1])\n",
    "train_df = train_df.drop(columns=['Pclass', 'Sex', 'Embarked'])"
   ]
  },
  {
   "cell_type": "code",
   "execution_count": 194,
   "id": "023d163f-9441-476c-89f4-37dddb363f5b",
   "metadata": {},
   "outputs": [
    {
     "data": {
      "text/html": [
       "<div>\n",
       "<style scoped>\n",
       "    .dataframe tbody tr th:only-of-type {\n",
       "        vertical-align: middle;\n",
       "    }\n",
       "\n",
       "    .dataframe tbody tr th {\n",
       "        vertical-align: top;\n",
       "    }\n",
       "\n",
       "    .dataframe thead th {\n",
       "        text-align: right;\n",
       "    }\n",
       "</style>\n",
       "<table border=\"1\" class=\"dataframe\">\n",
       "  <thead>\n",
       "    <tr style=\"text-align: right;\">\n",
       "      <th></th>\n",
       "      <th>Survived</th>\n",
       "      <th>Age</th>\n",
       "      <th>SibSp</th>\n",
       "      <th>Parch</th>\n",
       "      <th>Fare</th>\n",
       "      <th>female</th>\n",
       "      <th>male</th>\n",
       "      <th>third_class</th>\n",
       "      <th>second_class</th>\n",
       "      <th>first_class</th>\n",
       "      <th>s</th>\n",
       "      <th>c</th>\n",
       "      <th>q</th>\n",
       "    </tr>\n",
       "  </thead>\n",
       "  <tbody>\n",
       "    <tr>\n",
       "      <th>0</th>\n",
       "      <td>0</td>\n",
       "      <td>22.0</td>\n",
       "      <td>1</td>\n",
       "      <td>0</td>\n",
       "      <td>7.2500</td>\n",
       "      <td>0</td>\n",
       "      <td>1</td>\n",
       "      <td>1</td>\n",
       "      <td>0</td>\n",
       "      <td>0</td>\n",
       "      <td>1</td>\n",
       "      <td>0</td>\n",
       "      <td>0</td>\n",
       "    </tr>\n",
       "    <tr>\n",
       "      <th>1</th>\n",
       "      <td>1</td>\n",
       "      <td>38.0</td>\n",
       "      <td>1</td>\n",
       "      <td>0</td>\n",
       "      <td>71.2833</td>\n",
       "      <td>1</td>\n",
       "      <td>0</td>\n",
       "      <td>0</td>\n",
       "      <td>0</td>\n",
       "      <td>1</td>\n",
       "      <td>0</td>\n",
       "      <td>1</td>\n",
       "      <td>0</td>\n",
       "    </tr>\n",
       "    <tr>\n",
       "      <th>2</th>\n",
       "      <td>1</td>\n",
       "      <td>26.0</td>\n",
       "      <td>0</td>\n",
       "      <td>0</td>\n",
       "      <td>7.9250</td>\n",
       "      <td>1</td>\n",
       "      <td>0</td>\n",
       "      <td>1</td>\n",
       "      <td>0</td>\n",
       "      <td>0</td>\n",
       "      <td>1</td>\n",
       "      <td>0</td>\n",
       "      <td>0</td>\n",
       "    </tr>\n",
       "    <tr>\n",
       "      <th>3</th>\n",
       "      <td>1</td>\n",
       "      <td>35.0</td>\n",
       "      <td>1</td>\n",
       "      <td>0</td>\n",
       "      <td>53.1000</td>\n",
       "      <td>1</td>\n",
       "      <td>0</td>\n",
       "      <td>0</td>\n",
       "      <td>0</td>\n",
       "      <td>1</td>\n",
       "      <td>1</td>\n",
       "      <td>0</td>\n",
       "      <td>0</td>\n",
       "    </tr>\n",
       "    <tr>\n",
       "      <th>4</th>\n",
       "      <td>0</td>\n",
       "      <td>35.0</td>\n",
       "      <td>0</td>\n",
       "      <td>0</td>\n",
       "      <td>8.0500</td>\n",
       "      <td>0</td>\n",
       "      <td>1</td>\n",
       "      <td>1</td>\n",
       "      <td>0</td>\n",
       "      <td>0</td>\n",
       "      <td>1</td>\n",
       "      <td>0</td>\n",
       "      <td>0</td>\n",
       "    </tr>\n",
       "    <tr>\n",
       "      <th>...</th>\n",
       "      <td>...</td>\n",
       "      <td>...</td>\n",
       "      <td>...</td>\n",
       "      <td>...</td>\n",
       "      <td>...</td>\n",
       "      <td>...</td>\n",
       "      <td>...</td>\n",
       "      <td>...</td>\n",
       "      <td>...</td>\n",
       "      <td>...</td>\n",
       "      <td>...</td>\n",
       "      <td>...</td>\n",
       "      <td>...</td>\n",
       "    </tr>\n",
       "    <tr>\n",
       "      <th>885</th>\n",
       "      <td>0</td>\n",
       "      <td>39.0</td>\n",
       "      <td>0</td>\n",
       "      <td>5</td>\n",
       "      <td>29.1250</td>\n",
       "      <td>1</td>\n",
       "      <td>0</td>\n",
       "      <td>1</td>\n",
       "      <td>0</td>\n",
       "      <td>0</td>\n",
       "      <td>0</td>\n",
       "      <td>0</td>\n",
       "      <td>1</td>\n",
       "    </tr>\n",
       "    <tr>\n",
       "      <th>886</th>\n",
       "      <td>0</td>\n",
       "      <td>27.0</td>\n",
       "      <td>0</td>\n",
       "      <td>0</td>\n",
       "      <td>13.0000</td>\n",
       "      <td>0</td>\n",
       "      <td>1</td>\n",
       "      <td>0</td>\n",
       "      <td>1</td>\n",
       "      <td>0</td>\n",
       "      <td>1</td>\n",
       "      <td>0</td>\n",
       "      <td>0</td>\n",
       "    </tr>\n",
       "    <tr>\n",
       "      <th>887</th>\n",
       "      <td>1</td>\n",
       "      <td>19.0</td>\n",
       "      <td>0</td>\n",
       "      <td>0</td>\n",
       "      <td>30.0000</td>\n",
       "      <td>1</td>\n",
       "      <td>0</td>\n",
       "      <td>0</td>\n",
       "      <td>0</td>\n",
       "      <td>1</td>\n",
       "      <td>1</td>\n",
       "      <td>0</td>\n",
       "      <td>0</td>\n",
       "    </tr>\n",
       "    <tr>\n",
       "      <th>889</th>\n",
       "      <td>1</td>\n",
       "      <td>26.0</td>\n",
       "      <td>0</td>\n",
       "      <td>0</td>\n",
       "      <td>30.0000</td>\n",
       "      <td>0</td>\n",
       "      <td>1</td>\n",
       "      <td>0</td>\n",
       "      <td>0</td>\n",
       "      <td>1</td>\n",
       "      <td>0</td>\n",
       "      <td>1</td>\n",
       "      <td>0</td>\n",
       "    </tr>\n",
       "    <tr>\n",
       "      <th>890</th>\n",
       "      <td>0</td>\n",
       "      <td>32.0</td>\n",
       "      <td>0</td>\n",
       "      <td>0</td>\n",
       "      <td>7.7500</td>\n",
       "      <td>0</td>\n",
       "      <td>1</td>\n",
       "      <td>1</td>\n",
       "      <td>0</td>\n",
       "      <td>0</td>\n",
       "      <td>0</td>\n",
       "      <td>0</td>\n",
       "      <td>1</td>\n",
       "    </tr>\n",
       "  </tbody>\n",
       "</table>\n",
       "<p>712 rows × 13 columns</p>\n",
       "</div>"
      ],
      "text/plain": [
       "     Survived   Age  SibSp  Parch     Fare  female  male  third_class  \\\n",
       "0           0  22.0      1      0   7.2500       0     1            1   \n",
       "1           1  38.0      1      0  71.2833       1     0            0   \n",
       "2           1  26.0      0      0   7.9250       1     0            1   \n",
       "3           1  35.0      1      0  53.1000       1     0            0   \n",
       "4           0  35.0      0      0   8.0500       0     1            1   \n",
       "..        ...   ...    ...    ...      ...     ...   ...          ...   \n",
       "885         0  39.0      0      5  29.1250       1     0            1   \n",
       "886         0  27.0      0      0  13.0000       0     1            0   \n",
       "887         1  19.0      0      0  30.0000       1     0            0   \n",
       "889         1  26.0      0      0  30.0000       0     1            0   \n",
       "890         0  32.0      0      0   7.7500       0     1            1   \n",
       "\n",
       "     second_class  first_class  s  c  q  \n",
       "0               0            0  1  0  0  \n",
       "1               0            1  0  1  0  \n",
       "2               0            0  1  0  0  \n",
       "3               0            1  1  0  0  \n",
       "4               0            0  1  0  0  \n",
       "..            ...          ... .. .. ..  \n",
       "885             0            0  0  0  1  \n",
       "886             1            0  1  0  0  \n",
       "887             0            1  1  0  0  \n",
       "889             0            1  0  1  0  \n",
       "890             0            0  0  0  1  \n",
       "\n",
       "[712 rows x 13 columns]"
      ]
     },
     "execution_count": 194,
     "metadata": {},
     "output_type": "execute_result"
    }
   ],
   "source": [
    "train_df"
   ]
  },
  {
   "cell_type": "code",
   "execution_count": 195,
   "id": "3f2e47ce-ea0a-4de2-8e5f-8dd72a2d914c",
   "metadata": {},
   "outputs": [],
   "source": [
    "X = train_df.loc[:, 'Age':'q'].values\n",
    "y = train_df['Survived'].values"
   ]
  },
  {
   "cell_type": "markdown",
   "id": "4eaf349c-ad59-4d58-9e44-5ec9d78eaaa2",
   "metadata": {
    "jp-MarkdownHeadingCollapsed": true,
    "tags": []
   },
   "source": [
    "# SVM (dropped na's)"
   ]
  },
  {
   "cell_type": "code",
   "execution_count": 196,
   "id": "fd2da14b-15d9-4691-8cc3-28d8e8c3ab87",
   "metadata": {},
   "outputs": [],
   "source": [
    "from sklearn.svm import SVC\n",
    "from sklearn.model_selection import train_test_split\n",
    "from sklearn.preprocessing import StandardScaler"
   ]
  },
  {
   "cell_type": "code",
   "execution_count": 197,
   "id": "3cbfe9c1-40dd-4b01-a7cd-5c5bfeca6ef9",
   "metadata": {},
   "outputs": [],
   "source": [
    "X_train, X_test, y_train, y_test = train_test_split(X, y, test_size=0.1, random_state=692)"
   ]
  },
  {
   "cell_type": "code",
   "execution_count": 208,
   "id": "7b824d7b-25c2-49fe-b06f-f3fcf2009e5a",
   "metadata": {},
   "outputs": [],
   "source": [
    "X_scale = np.vstack((X_train[:, 0], X_train[:, 3])).T\n",
    "X_scale_test = np.vstack((X_test[:, 0], X_test[:, 3])).T"
   ]
  },
  {
   "cell_type": "code",
   "execution_count": 209,
   "id": "cc59fc9d-c3de-430f-8528-64b582ad4e28",
   "metadata": {},
   "outputs": [],
   "source": [
    "scaler = StandardScaler().fit(X_scale)"
   ]
  },
  {
   "cell_type": "code",
   "execution_count": 210,
   "id": "e9c966e1-acc5-4405-8f9e-49689aef6beb",
   "metadata": {},
   "outputs": [],
   "source": [
    "X_train[:, 0] = scaler.transform(X_scale)[:, 0]\n",
    "X_train[:, 3] = scaler.transform(X_scale)[:, 1]\n",
    "X_test[:, 0] = scaler.transform(X_scale_test)[:, 0]\n",
    "X_test[:, 3] = scaler.transform(X_scale_test)[:, 1]"
   ]
  },
  {
   "cell_type": "code",
   "execution_count": 261,
   "id": "89ae2035-b4bd-449c-9ef9-9d5269fd94cf",
   "metadata": {
    "tags": []
   },
   "outputs": [
    {
     "name": "stdout",
     "output_type": "stream",
     "text": [
      "0.875 0.06346346346346346\n"
     ]
    }
   ],
   "source": [
    "params = np.linspace(0.01, 0.5, 1000)\n",
    "max = 0.0\n",
    "\n",
    "for i in params:\n",
    "    svm = SVC(C=i)\n",
    "    svm.fit(X_train, y_train)\n",
    "    y_pred = svm.predict(X_test)\n",
    "    acc = accuracy_score(y_test, y_pred)\n",
    "    #print(acc)\n",
    "    \n",
    "    if acc > max: \n",
    "        max = acc\n",
    "        best = i\n",
    "        \n",
    "        \n",
    "print(max, best)"
   ]
  },
  {
   "cell_type": "code",
   "execution_count": 265,
   "id": "f664fcc4-4eca-428a-8325-2b88434b4686",
   "metadata": {},
   "outputs": [
    {
     "data": {
      "text/plain": [
       "0.8078125"
      ]
     },
     "execution_count": 265,
     "metadata": {},
     "output_type": "execute_result"
    }
   ],
   "source": [
    "svm = SVC(C=0.06346346346346346)\n",
    "svm.fit(X_train, y_train)\n",
    "accuracy_score(y_train, svm.predict(X_train))"
   ]
  },
  {
   "cell_type": "code",
   "execution_count": 254,
   "id": "8ea3d47b-081d-41e4-8cb6-b828152b4737",
   "metadata": {},
   "outputs": [
    {
     "name": "stdout",
     "output_type": "stream",
     "text": [
      "0.8611111111111112 0.005604404404404405\n"
     ]
    }
   ],
   "source": [
    "params = np.linspace(0.0001, 0.5, 1000)\n",
    "max = 0.0\n",
    "\n",
    "for i in params:\n",
    "    svm = SVC(C=i, kernel='linear')\n",
    "    svm.fit(X_train, y_train)\n",
    "    y_pred = svm.predict(X_test)\n",
    "    acc = accuracy_score(y_test, y_pred)\n",
    "    #print(acc)\n",
    "    \n",
    "    if acc > max: \n",
    "        max = acc\n",
    "        best = i\n",
    "        \n",
    "        \n",
    "print(max, best)"
   ]
  },
  {
   "cell_type": "code",
   "execution_count": 260,
   "id": "83857e08-f693-40de-ba61-00f7adb99688",
   "metadata": {},
   "outputs": [
    {
     "name": "stdout",
     "output_type": "stream",
     "text": [
      "0.8194444444444444 [0.1576232323232323, 2]\n"
     ]
    }
   ],
   "source": [
    "params = [np.linspace(0.0001, 0.3, 100), [2, 3, 4, 5, 6, 7, 8]]\n",
    "max = 0.0\n",
    "\n",
    "for i in params[0]:\n",
    "    for j in params[1]:\n",
    "        svm = SVC(C=i, kernel='poly', degree=j)\n",
    "        svm.fit(X_train, y_train)\n",
    "        y_pred = svm.predict(X_test)\n",
    "        acc = accuracy_score(y_test, y_pred)\n",
    "        #print(acc)\n",
    "\n",
    "        if acc > max: \n",
    "            max = acc\n",
    "            best = [i, j]\n",
    "        \n",
    "        \n",
    "print(max, best)"
   ]
  },
  {
   "cell_type": "markdown",
   "id": "c88630c2-f43e-42e1-b590-c8c0dc0595d8",
   "metadata": {
    "jp-MarkdownHeadingCollapsed": true,
    "tags": []
   },
   "source": [
    "# Testing RFC"
   ]
  },
  {
   "cell_type": "code",
   "execution_count": 793,
   "id": "d3de0d5a-fe7b-4740-97c8-72716168c1ef",
   "metadata": {},
   "outputs": [],
   "source": [
    "test_df = pd.read_csv('test.csv')\n",
    "test_df_1 = pd.read_csv('test.csv')"
   ]
  },
  {
   "cell_type": "code",
   "execution_count": 732,
   "id": "ff5631bf-6945-4da3-b44b-0ace5dc15110",
   "metadata": {},
   "outputs": [],
   "source": [
    "test_df = test_df.drop(columns=['Name', 'PassengerId', 'Ticket', 'Cabin'])\n",
    "test_df['female'] = test_df['Sex'].replace(['female', 'male'], [1, 0])\n",
    "test_df['male'] = test_df['Sex'].replace(['female', 'male'], [0, 1])\n",
    "test_df['third_class'] = test_df['Pclass'].replace([1, 2, 3], [0, 0, 1])\n",
    "test_df['second_class'] = test_df['Pclass'].replace([1, 2, 3], [0, 1, 0])\n",
    "test_df['first_class'] = test_df['Pclass'].replace([1, 2, 3], [1, 0, 0])\n",
    "test_df = test_df.drop(columns=['Pclass', 'Sex'])\n",
    "test_df.loc[:, 'Embarked'] = test_df['Embarked'].replace(['S', 'C', 'Q'], [int(0), int(1), int(2)])"
   ]
  },
  {
   "cell_type": "code",
   "execution_count": 735,
   "id": "bfc49b9b-5eb8-4dd4-93a3-42e2412ae93f",
   "metadata": {},
   "outputs": [
    {
     "data": {
      "text/plain": [
       "Age             86\n",
       "SibSp            0\n",
       "Parch            0\n",
       "Fare             1\n",
       "Embarked         0\n",
       "female           0\n",
       "male             0\n",
       "third_class      0\n",
       "second_class     0\n",
       "first_class      0\n",
       "dtype: int64"
      ]
     },
     "execution_count": 735,
     "metadata": {},
     "output_type": "execute_result"
    }
   ],
   "source": [
    "test_df.isna().sum()"
   ]
  },
  {
   "cell_type": "code",
   "execution_count": 761,
   "id": "2dc91c57-677e-481f-8033-93df43bc7e02",
   "metadata": {},
   "outputs": [],
   "source": [
    "missing_fare = test_df[test_df['Fare'].isna()].drop(columns='Fare')\n",
    "missing_age = test_df[test_df['Age'].isna()].drop(columns=['Embarked', 'Age'])"
   ]
  },
  {
   "cell_type": "code",
   "execution_count": 765,
   "id": "aaf29bbc-9f64-4cce-a784-3da4885828e7",
   "metadata": {},
   "outputs": [],
   "source": [
    "sub_vals_fare = pd.Series(gsr_fare.predict(missing_fare.values), index=missing_fare.index)\n",
    "filled_fare_col = test_df['Fare'].fillna(sub_vals_fare)\n",
    "sub_vals_age = pd.Series(gsr.predict(missing_age.values), index=missing_age.index)\n",
    "filled_age_col = test_df['Age'].fillna(sub_vals_age)"
   ]
  },
  {
   "cell_type": "code",
   "execution_count": 767,
   "id": "4b753965-57c3-47ba-a897-ad9af99740fc",
   "metadata": {},
   "outputs": [],
   "source": [
    "test_no_na = test_df.copy()\n",
    "test_no_na['Age'] = filled_age_col\n",
    "test_no_na['Fare'] = filled_fare_col"
   ]
  },
  {
   "cell_type": "code",
   "execution_count": 769,
   "id": "37ae957b-77eb-4ef9-bf14-c2e64692d751",
   "metadata": {},
   "outputs": [
    {
     "data": {
      "text/plain": [
       "Age             False\n",
       "SibSp           False\n",
       "Parch           False\n",
       "Fare            False\n",
       "Embarked        False\n",
       "female          False\n",
       "male            False\n",
       "third_class     False\n",
       "second_class    False\n",
       "first_class     False\n",
       "dtype: bool"
      ]
     },
     "execution_count": 769,
     "metadata": {},
     "output_type": "execute_result"
    }
   ],
   "source": [
    "test_no_na.isna().any()"
   ]
  },
  {
   "cell_type": "code",
   "execution_count": 780,
   "id": "e533270d-29d4-40dd-95c3-654b12fb08e5",
   "metadata": {},
   "outputs": [
    {
     "data": {
      "text/html": [
       "<div>\n",
       "<style scoped>\n",
       "    .dataframe tbody tr th:only-of-type {\n",
       "        vertical-align: middle;\n",
       "    }\n",
       "\n",
       "    .dataframe tbody tr th {\n",
       "        vertical-align: top;\n",
       "    }\n",
       "\n",
       "    .dataframe thead th {\n",
       "        text-align: right;\n",
       "    }\n",
       "</style>\n",
       "<table border=\"1\" class=\"dataframe\">\n",
       "  <thead>\n",
       "    <tr style=\"text-align: right;\">\n",
       "      <th></th>\n",
       "      <th>Age</th>\n",
       "      <th>SibSp</th>\n",
       "      <th>Parch</th>\n",
       "      <th>Fare</th>\n",
       "      <th>Embarked</th>\n",
       "      <th>female</th>\n",
       "      <th>male</th>\n",
       "      <th>third_class</th>\n",
       "      <th>second_class</th>\n",
       "      <th>first_class</th>\n",
       "    </tr>\n",
       "  </thead>\n",
       "  <tbody>\n",
       "    <tr>\n",
       "      <th>0</th>\n",
       "      <td>34.5</td>\n",
       "      <td>0</td>\n",
       "      <td>0</td>\n",
       "      <td>7.8292</td>\n",
       "      <td>2</td>\n",
       "      <td>0</td>\n",
       "      <td>1</td>\n",
       "      <td>1</td>\n",
       "      <td>0</td>\n",
       "      <td>0</td>\n",
       "    </tr>\n",
       "    <tr>\n",
       "      <th>1</th>\n",
       "      <td>47.0</td>\n",
       "      <td>1</td>\n",
       "      <td>0</td>\n",
       "      <td>7.0000</td>\n",
       "      <td>0</td>\n",
       "      <td>1</td>\n",
       "      <td>0</td>\n",
       "      <td>1</td>\n",
       "      <td>0</td>\n",
       "      <td>0</td>\n",
       "    </tr>\n",
       "    <tr>\n",
       "      <th>2</th>\n",
       "      <td>62.0</td>\n",
       "      <td>0</td>\n",
       "      <td>0</td>\n",
       "      <td>9.6875</td>\n",
       "      <td>2</td>\n",
       "      <td>0</td>\n",
       "      <td>1</td>\n",
       "      <td>0</td>\n",
       "      <td>1</td>\n",
       "      <td>0</td>\n",
       "    </tr>\n",
       "    <tr>\n",
       "      <th>3</th>\n",
       "      <td>27.0</td>\n",
       "      <td>0</td>\n",
       "      <td>0</td>\n",
       "      <td>8.6625</td>\n",
       "      <td>0</td>\n",
       "      <td>0</td>\n",
       "      <td>1</td>\n",
       "      <td>1</td>\n",
       "      <td>0</td>\n",
       "      <td>0</td>\n",
       "    </tr>\n",
       "    <tr>\n",
       "      <th>4</th>\n",
       "      <td>22.0</td>\n",
       "      <td>1</td>\n",
       "      <td>1</td>\n",
       "      <td>12.2875</td>\n",
       "      <td>0</td>\n",
       "      <td>1</td>\n",
       "      <td>0</td>\n",
       "      <td>1</td>\n",
       "      <td>0</td>\n",
       "      <td>0</td>\n",
       "    </tr>\n",
       "  </tbody>\n",
       "</table>\n",
       "</div>"
      ],
      "text/plain": [
       "    Age  SibSp  Parch     Fare  Embarked  female  male  third_class  \\\n",
       "0  34.5      0      0   7.8292         2       0     1            1   \n",
       "1  47.0      1      0   7.0000         0       1     0            1   \n",
       "2  62.0      0      0   9.6875         2       0     1            0   \n",
       "3  27.0      0      0   8.6625         0       0     1            1   \n",
       "4  22.0      1      1  12.2875         0       1     0            1   \n",
       "\n",
       "   second_class  first_class  \n",
       "0             0            0  \n",
       "1             0            0  \n",
       "2             1            0  \n",
       "3             0            0  \n",
       "4             0            0  "
      ]
     },
     "execution_count": 780,
     "metadata": {},
     "output_type": "execute_result"
    }
   ],
   "source": [
    "test_no_na.head()"
   ]
  },
  {
   "cell_type": "code",
   "execution_count": 781,
   "id": "d7db16ee-dd74-41c2-b77b-249a211f9635",
   "metadata": {},
   "outputs": [
    {
     "data": {
      "text/html": [
       "<div>\n",
       "<style scoped>\n",
       "    .dataframe tbody tr th:only-of-type {\n",
       "        vertical-align: middle;\n",
       "    }\n",
       "\n",
       "    .dataframe tbody tr th {\n",
       "        vertical-align: top;\n",
       "    }\n",
       "\n",
       "    .dataframe thead th {\n",
       "        text-align: right;\n",
       "    }\n",
       "</style>\n",
       "<table border=\"1\" class=\"dataframe\">\n",
       "  <thead>\n",
       "    <tr style=\"text-align: right;\">\n",
       "      <th></th>\n",
       "      <th>Age</th>\n",
       "      <th>SibSp</th>\n",
       "      <th>Parch</th>\n",
       "      <th>Fare</th>\n",
       "      <th>Embarked</th>\n",
       "      <th>female</th>\n",
       "      <th>male</th>\n",
       "      <th>third_class</th>\n",
       "      <th>second_class</th>\n",
       "      <th>first_class</th>\n",
       "    </tr>\n",
       "  </thead>\n",
       "  <tbody>\n",
       "    <tr>\n",
       "      <th>0</th>\n",
       "      <td>22.0</td>\n",
       "      <td>1</td>\n",
       "      <td>0</td>\n",
       "      <td>7.2500</td>\n",
       "      <td>0.0</td>\n",
       "      <td>0</td>\n",
       "      <td>1</td>\n",
       "      <td>1</td>\n",
       "      <td>0</td>\n",
       "      <td>0</td>\n",
       "    </tr>\n",
       "    <tr>\n",
       "      <th>1</th>\n",
       "      <td>38.0</td>\n",
       "      <td>1</td>\n",
       "      <td>0</td>\n",
       "      <td>71.2833</td>\n",
       "      <td>1.0</td>\n",
       "      <td>1</td>\n",
       "      <td>0</td>\n",
       "      <td>0</td>\n",
       "      <td>0</td>\n",
       "      <td>1</td>\n",
       "    </tr>\n",
       "    <tr>\n",
       "      <th>2</th>\n",
       "      <td>26.0</td>\n",
       "      <td>0</td>\n",
       "      <td>0</td>\n",
       "      <td>7.9250</td>\n",
       "      <td>0.0</td>\n",
       "      <td>1</td>\n",
       "      <td>0</td>\n",
       "      <td>1</td>\n",
       "      <td>0</td>\n",
       "      <td>0</td>\n",
       "    </tr>\n",
       "    <tr>\n",
       "      <th>3</th>\n",
       "      <td>35.0</td>\n",
       "      <td>1</td>\n",
       "      <td>0</td>\n",
       "      <td>53.1000</td>\n",
       "      <td>0.0</td>\n",
       "      <td>1</td>\n",
       "      <td>0</td>\n",
       "      <td>0</td>\n",
       "      <td>0</td>\n",
       "      <td>1</td>\n",
       "    </tr>\n",
       "    <tr>\n",
       "      <th>4</th>\n",
       "      <td>35.0</td>\n",
       "      <td>0</td>\n",
       "      <td>0</td>\n",
       "      <td>8.0500</td>\n",
       "      <td>0.0</td>\n",
       "      <td>0</td>\n",
       "      <td>1</td>\n",
       "      <td>1</td>\n",
       "      <td>0</td>\n",
       "      <td>0</td>\n",
       "    </tr>\n",
       "  </tbody>\n",
       "</table>\n",
       "</div>"
      ],
      "text/plain": [
       "    Age  SibSp  Parch     Fare  Embarked  female  male  third_class  \\\n",
       "0  22.0      1      0   7.2500       0.0       0     1            1   \n",
       "1  38.0      1      0  71.2833       1.0       1     0            0   \n",
       "2  26.0      0      0   7.9250       0.0       1     0            1   \n",
       "3  35.0      1      0  53.1000       0.0       1     0            0   \n",
       "4  35.0      0      0   8.0500       0.0       0     1            1   \n",
       "\n",
       "   second_class  first_class  \n",
       "0             0            0  \n",
       "1             0            1  \n",
       "2             0            0  \n",
       "3             0            1  \n",
       "4             0            0  "
      ]
     },
     "execution_count": 781,
     "metadata": {},
     "output_type": "execute_result"
    }
   ],
   "source": [
    "train_no_na.head()"
   ]
  },
  {
   "cell_type": "code",
   "execution_count": 802,
   "id": "cb9a1a1b-b82b-4974-b0a4-5ca2e45a627c",
   "metadata": {},
   "outputs": [],
   "source": [
    "final = test_df_1.copy()\n",
    "final['Survived'] = pd.Series(gs.predict(test_no_na.values), index=test_no_na.index)\n",
    "final = final.drop(columns=final.columns.difference(['PassengerId', 'Survived']))"
   ]
  },
  {
   "cell_type": "code",
   "execution_count": 803,
   "id": "15d2363d-ec17-403d-9e94-e6e0226c81ab",
   "metadata": {},
   "outputs": [
    {
     "data": {
      "text/html": [
       "<div>\n",
       "<style scoped>\n",
       "    .dataframe tbody tr th:only-of-type {\n",
       "        vertical-align: middle;\n",
       "    }\n",
       "\n",
       "    .dataframe tbody tr th {\n",
       "        vertical-align: top;\n",
       "    }\n",
       "\n",
       "    .dataframe thead th {\n",
       "        text-align: right;\n",
       "    }\n",
       "</style>\n",
       "<table border=\"1\" class=\"dataframe\">\n",
       "  <thead>\n",
       "    <tr style=\"text-align: right;\">\n",
       "      <th></th>\n",
       "      <th>PassengerId</th>\n",
       "      <th>Survived</th>\n",
       "    </tr>\n",
       "  </thead>\n",
       "  <tbody>\n",
       "    <tr>\n",
       "      <th>0</th>\n",
       "      <td>892</td>\n",
       "      <td>0</td>\n",
       "    </tr>\n",
       "    <tr>\n",
       "      <th>1</th>\n",
       "      <td>893</td>\n",
       "      <td>0</td>\n",
       "    </tr>\n",
       "    <tr>\n",
       "      <th>2</th>\n",
       "      <td>894</td>\n",
       "      <td>0</td>\n",
       "    </tr>\n",
       "    <tr>\n",
       "      <th>3</th>\n",
       "      <td>895</td>\n",
       "      <td>0</td>\n",
       "    </tr>\n",
       "    <tr>\n",
       "      <th>4</th>\n",
       "      <td>896</td>\n",
       "      <td>0</td>\n",
       "    </tr>\n",
       "    <tr>\n",
       "      <th>...</th>\n",
       "      <td>...</td>\n",
       "      <td>...</td>\n",
       "    </tr>\n",
       "    <tr>\n",
       "      <th>413</th>\n",
       "      <td>1305</td>\n",
       "      <td>0</td>\n",
       "    </tr>\n",
       "    <tr>\n",
       "      <th>414</th>\n",
       "      <td>1306</td>\n",
       "      <td>1</td>\n",
       "    </tr>\n",
       "    <tr>\n",
       "      <th>415</th>\n",
       "      <td>1307</td>\n",
       "      <td>0</td>\n",
       "    </tr>\n",
       "    <tr>\n",
       "      <th>416</th>\n",
       "      <td>1308</td>\n",
       "      <td>0</td>\n",
       "    </tr>\n",
       "    <tr>\n",
       "      <th>417</th>\n",
       "      <td>1309</td>\n",
       "      <td>0</td>\n",
       "    </tr>\n",
       "  </tbody>\n",
       "</table>\n",
       "<p>418 rows × 2 columns</p>\n",
       "</div>"
      ],
      "text/plain": [
       "     PassengerId  Survived\n",
       "0            892         0\n",
       "1            893         0\n",
       "2            894         0\n",
       "3            895         0\n",
       "4            896         0\n",
       "..           ...       ...\n",
       "413         1305         0\n",
       "414         1306         1\n",
       "415         1307         0\n",
       "416         1308         0\n",
       "417         1309         0\n",
       "\n",
       "[418 rows x 2 columns]"
      ]
     },
     "execution_count": 803,
     "metadata": {},
     "output_type": "execute_result"
    }
   ],
   "source": [
    "final"
   ]
  },
  {
   "cell_type": "code",
   "execution_count": 805,
   "id": "523a40f0-ab56-48b2-91f7-b0a0e84206e2",
   "metadata": {},
   "outputs": [],
   "source": [
    "final.to_csv('output.csv', index=False)"
   ]
  },
  {
   "cell_type": "code",
   "execution_count": null,
   "id": "e705c3a8-793d-4dbd-8dbb-9885a10adbfc",
   "metadata": {},
   "outputs": [],
   "source": []
  }
 ],
 "metadata": {
  "kernelspec": {
   "display_name": "general",
   "language": "python",
   "name": "general"
  },
  "language_info": {
   "codemirror_mode": {
    "name": "ipython",
    "version": 3
   },
   "file_extension": ".py",
   "mimetype": "text/x-python",
   "name": "python",
   "nbconvert_exporter": "python",
   "pygments_lexer": "ipython3",
   "version": "3.9.13"
  }
 },
 "nbformat": 4,
 "nbformat_minor": 5
}
